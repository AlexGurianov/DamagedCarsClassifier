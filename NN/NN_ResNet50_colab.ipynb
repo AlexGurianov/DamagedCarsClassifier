{
  "nbformat": 4,
  "nbformat_minor": 0,
  "metadata": {
    "colab": {
      "name": "NN_ResNet50_colab.ipynb",
      "version": "0.3.2",
      "views": {},
      "default_view": {},
      "provenance": [],
      "collapsed_sections": []
    },
    "kernelspec": {
      "name": "python3",
      "display_name": "Python 3"
    },
    "accelerator": "GPU"
  },
  "cells": [
    {
      "metadata": {
        "id": "MfmYC3pvkgCa",
        "colab_type": "code",
        "colab": {
          "autoexec": {
            "startup": false,
            "wait_interval": 0
          },
          "resources": {
            "http://localhost:8080/nbextensions/google.colab/files.js": {
              "data": "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",
              "ok": true,
              "headers": [
                [
                  "content-type",
                  "application/javascript"
                ]
              ],
              "status": 200,
              "status_text": ""
            }
          },
          "base_uri": "https://localhost:8080/",
          "height": 106
        },
        "outputId": "1501ff38-ed72-40eb-e9fd-4137ec7eb802",
        "executionInfo": {
          "status": "ok",
          "timestamp": 1531336416391,
          "user_tz": -180,
          "elapsed": 552121,
          "user": {
            "displayName": "Александр Гурьянов",
            "photoUrl": "https://lh3.googleusercontent.com/a/default-user=s128",
            "userId": "112394763101688206932"
          }
        }
      },
      "cell_type": "code",
      "source": [
        "from google.colab import files\n",
        "uploaded = files.upload()"
      ],
      "execution_count": 1,
      "outputs": [
        {
          "output_type": "display_data",
          "data": {
            "text/html": [
              "\n",
              "     <input type=\"file\" id=\"files-66fed1ed-83a8-4b2c-9ab0-3fc7e1255a2f\" name=\"files[]\" multiple disabled />\n",
              "     <output id=\"result-66fed1ed-83a8-4b2c-9ab0-3fc7e1255a2f\">\n",
              "      Upload widget is only available when the cell has been executed in the\n",
              "      current browser session. Please rerun this cell to enable.\n",
              "      </output>\n",
              "      <script src=\"/nbextensions/google.colab/files.js\"></script> "
            ],
            "text/plain": [
              "<IPython.core.display.HTML object>"
            ]
          },
          "metadata": {
            "tags": []
          }
        },
        {
          "output_type": "stream",
          "text": [
            "Saving train_resnet50.p to train_resnet50.p\n",
            "Saving valid_resnet50.p to valid_resnet50.p\n"
          ],
          "name": "stdout"
        }
      ]
    },
    {
      "metadata": {
        "id": "Z2fdBOBEk1dI",
        "colab_type": "code",
        "colab": {
          "autoexec": {
            "startup": false,
            "wait_interval": 0
          },
          "base_uri": "https://localhost:8080/",
          "height": 34
        },
        "outputId": "26d9308d-9b2d-486d-c717-8ceea651782f",
        "executionInfo": {
          "status": "ok",
          "timestamp": 1531336459462,
          "user_tz": -180,
          "elapsed": 1501,
          "user": {
            "displayName": "Александр Гурьянов",
            "photoUrl": "https://lh3.googleusercontent.com/a/default-user=s128",
            "userId": "112394763101688206932"
          }
        }
      },
      "cell_type": "code",
      "source": [
        "import numpy as np\n",
        "import pickle\n",
        "import keras.utils as utils\n",
        "from keras.models import Model\n",
        "from keras.layers import Dense, Dropout, Input\n",
        "from keras import regularizers\n",
        "import matplotlib.pyplot as plt\n",
        "%matplotlib inline\n",
        "from pandas import DataFrame\n",
        "from sklearn.metrics import accuracy_score, confusion_matrix, precision_recall_fscore_support"
      ],
      "execution_count": 2,
      "outputs": [
        {
          "output_type": "stream",
          "text": [
            "Using TensorFlow backend.\n"
          ],
          "name": "stderr"
        }
      ]
    },
    {
      "metadata": {
        "id": "t4aTcyrtcKlP",
        "colab_type": "text"
      },
      "cell_type": "markdown",
      "source": [
        "# Training a NN Classifier on top of ResNet50"
      ]
    },
    {
      "metadata": {
        "id": "JAcqt7VvcT5d",
        "colab_type": "text"
      },
      "cell_type": "markdown",
      "source": [
        "The general idea here is to use transfer learning approach. Inputs to the model are image representations in the form of vectors of length 2048, which are obtained after propagating images through a ResNet50 model pretrained on Imagenet and taking the outputs of its last layer before classification.\n",
        "\n",
        "Using these features we'll now try to classify the images into two classes: \"good\" cars and \"damaged\" cars with a Neural Network, which is built on top of cut ResNet50. First, we try a single layer with two outputs and softmax activation. Second, we try a NN with several hidden layers."
      ]
    },
    {
      "metadata": {
        "id": "EJPdHV0HTGo2",
        "colab_type": "code",
        "colab": {
          "autoexec": {
            "startup": false,
            "wait_interval": 0
          }
        }
      },
      "cell_type": "code",
      "source": [
        "def plot_training_history(training_history, epochs_num):\n",
        "  plt.subplot(211)\n",
        "  plt.plot(np.arange(1, epochs_num + 1), training_history.history[\"loss\"], label='train dataset')\n",
        "  plt.plot(np.arange(1, epochs_num + 1), training_history.history[\"val_loss\"], label='validation dataset')\n",
        "  plt.title('Loss plot')\n",
        "  plt.xlabel('epoch')\n",
        "  plt.ylabel('cross entropy')\n",
        "  plt.legend()\n",
        "  plt.show()\n",
        "  plt.subplot(212)\n",
        "  plt.plot(np.arange(1, epochs_num + 1), training_history.history[\"acc\"], label='train dataset')\n",
        "  plt.plot(np.arange(1, epochs_num + 1), training_history.history[\"val_acc\"], label='validation dataset')\n",
        "  plt.title('Accuracy plot')\n",
        "  plt.xlabel('epoch')\n",
        "  plt.ylabel('accuracy')\n",
        "  plt.legend()\n",
        "  plt.show()"
      ],
      "execution_count": 0,
      "outputs": []
    },
    {
      "metadata": {
        "id": "E5KsjbkKTomD",
        "colab_type": "code",
        "colab": {
          "autoexec": {
            "startup": false,
            "wait_interval": 0
          }
        }
      },
      "cell_type": "code",
      "source": [
        "def display_metrics(true_labels, predicted_labels, labels):\n",
        "    print(\"Accuracy:\", accuracy_score(true_labels, predicted_labels))\n",
        "    print(\"\\nConfusion matrix\")\n",
        "    display(DataFrame(confusion_matrix(true_labels, predicted_labels),\n",
        "                      index=[\"Actual \" + label for label in labels], columns=[\"Predicted \" + label for label in labels]))\n",
        "    print(\"\\nPrecision, recall, F-score, support\")\n",
        "    display(DataFrame(np.array(precision_recall_fscore_support(true_labels, predicted_labels)),\n",
        "            index=(\"precision\", \"recall\", \"F-score\", \"support\"), columns=labels))"
      ],
      "execution_count": 0,
      "outputs": []
    },
    {
      "metadata": {
        "id": "UwaaOmMvci0R",
        "colab_type": "code",
        "colab": {
          "autoexec": {
            "startup": false,
            "wait_interval": 0
          }
        }
      },
      "cell_type": "code",
      "source": [
        "train_cars, train_labels = pickle.loads(uploaded['train_resnet50.p'])\n",
        "input_shape = train_cars[0].shape\n",
        "valid_cars, valid_labels = pickle.loads(uploaded['valid_resnet50.p'])"
      ],
      "execution_count": 0,
      "outputs": []
    },
    {
      "metadata": {
        "id": "9QcU-u2Tqtxy",
        "colab_type": "code",
        "colab": {
          "autoexec": {
            "startup": false,
            "wait_interval": 0
          }
        }
      },
      "cell_type": "code",
      "source": [
        "train_labels_probabilities = utils.to_categorical(train_labels)\n",
        "valid_labels_probabilities = utils.to_categorical(valid_labels)"
      ],
      "execution_count": 0,
      "outputs": []
    },
    {
      "metadata": {
        "id": "rHKQHs6Ocmyx",
        "colab_type": "text"
      },
      "cell_type": "markdown",
      "source": [
        "## Single layer"
      ]
    },
    {
      "metadata": {
        "id": "6eJp-sVtczFs",
        "colab_type": "text"
      },
      "cell_type": "markdown",
      "source": [
        "First let's try to train a softmax linear classifier."
      ]
    },
    {
      "metadata": {
        "id": "_TqcdXZgo3-J",
        "colab_type": "code",
        "colab": {
          "autoexec": {
            "startup": false,
            "wait_interval": 0
          }
        }
      },
      "cell_type": "code",
      "source": [
        "x = Input(shape=(input_shape))\n",
        "y = Dense(2, activation='softmax', kernel_regularizer=regularizers.l2(0.01))(x)\n",
        "single_layer_model = Model(x, y)\n",
        "single_layer_model.compile(loss='categorical_crossentropy',\n",
        "              optimizer='adam',\n",
        "              metrics=['accuracy'])"
      ],
      "execution_count": 0,
      "outputs": []
    },
    {
      "metadata": {
        "id": "Nwc5u_Gy468H",
        "colab_type": "code",
        "colab": {
          "autoexec": {
            "startup": false,
            "wait_interval": 0
          },
          "base_uri": "https://localhost:8080/",
          "height": 202
        },
        "outputId": "ad4b9d8a-c3e0-4217-efa8-1eb3412210ca",
        "executionInfo": {
          "status": "ok",
          "timestamp": 1531336554839,
          "user_tz": -180,
          "elapsed": 664,
          "user": {
            "displayName": "Александр Гурьянов",
            "photoUrl": "https://lh3.googleusercontent.com/a/default-user=s128",
            "userId": "112394763101688206932"
          }
        }
      },
      "cell_type": "code",
      "source": [
        "single_layer_model.summary()"
      ],
      "execution_count": 9,
      "outputs": [
        {
          "output_type": "stream",
          "text": [
            "_________________________________________________________________\n",
            "Layer (type)                 Output Shape              Param #   \n",
            "=================================================================\n",
            "input_1 (InputLayer)         (None, 2048)              0         \n",
            "_________________________________________________________________\n",
            "dense_1 (Dense)              (None, 2)                 4098      \n",
            "=================================================================\n",
            "Total params: 4,098\n",
            "Trainable params: 4,098\n",
            "Non-trainable params: 0\n",
            "_________________________________________________________________\n"
          ],
          "name": "stdout"
        }
      ]
    },
    {
      "metadata": {
        "id": "FTj2Fw4vGn1J",
        "colab_type": "code",
        "colab": {
          "autoexec": {
            "startup": false,
            "wait_interval": 0
          },
          "base_uri": "https://localhost:8080/",
          "height": 1734
        },
        "outputId": "215c9f13-4908-4012-8c0b-e3ed35ae03d0",
        "executionInfo": {
          "status": "ok",
          "timestamp": 1531338199726,
          "user_tz": -180,
          "elapsed": 16491,
          "user": {
            "displayName": "Александр Гурьянов",
            "photoUrl": "https://lh3.googleusercontent.com/a/default-user=s128",
            "userId": "112394763101688206932"
          }
        }
      },
      "cell_type": "code",
      "source": [
        "training_history = single_layer_model.fit(train_cars, train_labels_probabilities, batch_size=128, epochs=50, validation_data=(valid_cars, valid_labels_probabilities))"
      ],
      "execution_count": 18,
      "outputs": [
        {
          "output_type": "stream",
          "text": [
            "Train on 6514 samples, validate on 814 samples\n",
            "Epoch 1/50\n",
            "6514/6514 [==============================] - 0s 69us/step - loss: 0.6253 - acc: 0.6802 - val_loss: 0.5222 - val_acc: 0.8034\n",
            "Epoch 2/50\n",
            "6514/6514 [==============================] - 0s 40us/step - loss: 0.4981 - acc: 0.7981 - val_loss: 0.4595 - val_acc: 0.8206\n",
            "Epoch 3/50\n",
            "6514/6514 [==============================] - 0s 40us/step - loss: 0.4614 - acc: 0.8213 - val_loss: 0.4302 - val_acc: 0.8342\n",
            "Epoch 4/50\n",
            "6514/6514 [==============================] - 0s 41us/step - loss: 0.4447 - acc: 0.8276 - val_loss: 0.4173 - val_acc: 0.8317\n",
            "Epoch 5/50\n",
            "6514/6514 [==============================] - 0s 40us/step - loss: 0.4299 - acc: 0.8356 - val_loss: 0.3981 - val_acc: 0.8514\n",
            "Epoch 6/50\n",
            "6514/6514 [==============================] - 0s 41us/step - loss: 0.4203 - acc: 0.8413 - val_loss: 0.3959 - val_acc: 0.8428\n",
            "Epoch 7/50\n",
            "6514/6514 [==============================] - 0s 48us/step - loss: 0.4157 - acc: 0.8437 - val_loss: 0.3840 - val_acc: 0.8563\n",
            "Epoch 8/50\n",
            "6514/6514 [==============================] - 0s 49us/step - loss: 0.4083 - acc: 0.8465 - val_loss: 0.3796 - val_acc: 0.8624\n",
            "Epoch 9/50\n",
            "6514/6514 [==============================] - 0s 48us/step - loss: 0.4043 - acc: 0.8491 - val_loss: 0.3757 - val_acc: 0.8686\n",
            "Epoch 10/50\n",
            "6514/6514 [==============================] - 0s 48us/step - loss: 0.4018 - acc: 0.8505 - val_loss: 0.3736 - val_acc: 0.8698\n",
            "Epoch 11/50\n",
            "6514/6514 [==============================] - 0s 48us/step - loss: 0.3975 - acc: 0.8535 - val_loss: 0.3704 - val_acc: 0.8575\n",
            "Epoch 12/50\n",
            "6514/6514 [==============================] - 0s 48us/step - loss: 0.3968 - acc: 0.8535 - val_loss: 0.3655 - val_acc: 0.8686\n",
            "Epoch 13/50\n",
            "6514/6514 [==============================] - 0s 50us/step - loss: 0.3931 - acc: 0.8558 - val_loss: 0.3629 - val_acc: 0.8686\n",
            "Epoch 14/50\n",
            "6016/6514 [==========================>...] - ETA: 0s - loss: 0.3918 - acc: 0.8580"
          ],
          "name": "stdout"
        },
        {
          "output_type": "stream",
          "text": [
            "6514/6514 [==============================] - 0s 49us/step - loss: 0.3913 - acc: 0.8578 - val_loss: 0.3625 - val_acc: 0.8759\n",
            "Epoch 15/50\n",
            "6514/6514 [==============================] - 0s 48us/step - loss: 0.3899 - acc: 0.8557 - val_loss: 0.3624 - val_acc: 0.8612\n",
            "Epoch 16/50\n",
            "6514/6514 [==============================] - 0s 49us/step - loss: 0.3886 - acc: 0.8571 - val_loss: 0.3613 - val_acc: 0.8796\n",
            "Epoch 17/50\n",
            "6514/6514 [==============================] - 0s 48us/step - loss: 0.3893 - acc: 0.8545 - val_loss: 0.3574 - val_acc: 0.8808\n",
            "Epoch 18/50\n",
            "6514/6514 [==============================] - 0s 49us/step - loss: 0.3852 - acc: 0.8618 - val_loss: 0.3622 - val_acc: 0.8587\n",
            "Epoch 19/50\n",
            "6514/6514 [==============================] - 0s 49us/step - loss: 0.3843 - acc: 0.8592 - val_loss: 0.3546 - val_acc: 0.8747\n",
            "Epoch 20/50\n",
            "6514/6514 [==============================] - 0s 49us/step - loss: 0.3855 - acc: 0.8582 - val_loss: 0.3540 - val_acc: 0.8784\n",
            "Epoch 21/50\n",
            "6514/6514 [==============================] - 0s 48us/step - loss: 0.3869 - acc: 0.8560 - val_loss: 0.3538 - val_acc: 0.8661\n",
            "Epoch 22/50\n",
            "6514/6514 [==============================] - 0s 49us/step - loss: 0.3819 - acc: 0.8620 - val_loss: 0.3529 - val_acc: 0.8784\n",
            "Epoch 23/50\n",
            "6514/6514 [==============================] - 0s 48us/step - loss: 0.3805 - acc: 0.8611 - val_loss: 0.3540 - val_acc: 0.8686\n",
            "Epoch 24/50\n",
            "6514/6514 [==============================] - 0s 48us/step - loss: 0.3791 - acc: 0.8631 - val_loss: 0.3508 - val_acc: 0.8821\n",
            "Epoch 25/50\n",
            "6514/6514 [==============================] - 0s 48us/step - loss: 0.3798 - acc: 0.8631 - val_loss: 0.3512 - val_acc: 0.8649\n",
            "Epoch 26/50\n",
            "6514/6514 [==============================] - 0s 49us/step - loss: 0.3808 - acc: 0.8629 - val_loss: 0.3584 - val_acc: 0.8673\n",
            "Epoch 27/50\n",
            "5760/6514 [=========================>....] - ETA: 0s - loss: 0.3802 - acc: 0.8641"
          ],
          "name": "stdout"
        },
        {
          "output_type": "stream",
          "text": [
            "6514/6514 [==============================] - 0s 50us/step - loss: 0.3783 - acc: 0.8646 - val_loss: 0.3491 - val_acc: 0.8759\n",
            "Epoch 28/50\n",
            "6514/6514 [==============================] - 0s 47us/step - loss: 0.3772 - acc: 0.8643 - val_loss: 0.3494 - val_acc: 0.8857\n",
            "Epoch 29/50\n",
            "6514/6514 [==============================] - 0s 49us/step - loss: 0.3778 - acc: 0.8626 - val_loss: 0.3483 - val_acc: 0.8833\n",
            "Epoch 30/50\n",
            "6514/6514 [==============================] - 0s 49us/step - loss: 0.3771 - acc: 0.8664 - val_loss: 0.3480 - val_acc: 0.8857\n",
            "Epoch 31/50\n",
            "6514/6514 [==============================] - 0s 48us/step - loss: 0.3774 - acc: 0.8634 - val_loss: 0.3476 - val_acc: 0.8784\n",
            "Epoch 32/50\n",
            "6514/6514 [==============================] - 0s 48us/step - loss: 0.3785 - acc: 0.8648 - val_loss: 0.3488 - val_acc: 0.8845\n",
            "Epoch 33/50\n",
            "6514/6514 [==============================] - 0s 48us/step - loss: 0.3771 - acc: 0.8641 - val_loss: 0.3462 - val_acc: 0.8821\n",
            "Epoch 34/50\n",
            "6514/6514 [==============================] - 0s 48us/step - loss: 0.3758 - acc: 0.8674 - val_loss: 0.3470 - val_acc: 0.8845\n",
            "Epoch 35/50\n",
            "6514/6514 [==============================] - 0s 49us/step - loss: 0.3737 - acc: 0.8661 - val_loss: 0.3556 - val_acc: 0.8735\n",
            "Epoch 36/50\n",
            "6514/6514 [==============================] - 0s 47us/step - loss: 0.3754 - acc: 0.8608 - val_loss: 0.3466 - val_acc: 0.8821\n",
            "Epoch 37/50\n",
            "6514/6514 [==============================] - 0s 49us/step - loss: 0.3745 - acc: 0.8640 - val_loss: 0.3523 - val_acc: 0.8686\n",
            "Epoch 38/50\n",
            "6514/6514 [==============================] - 0s 49us/step - loss: 0.3737 - acc: 0.8643 - val_loss: 0.3593 - val_acc: 0.8710\n",
            "Epoch 39/50\n",
            "6514/6514 [==============================] - 0s 47us/step - loss: 0.3803 - acc: 0.8606 - val_loss: 0.3451 - val_acc: 0.8845\n",
            "Epoch 40/50\n",
            "6514/6514 [==============================] - 0s 49us/step - loss: 0.3743 - acc: 0.8654 - val_loss: 0.3585 - val_acc: 0.8698\n"
          ],
          "name": "stdout"
        },
        {
          "output_type": "stream",
          "text": [
            "Epoch 41/50\n",
            "6514/6514 [==============================] - 0s 47us/step - loss: 0.3776 - acc: 0.8634 - val_loss: 0.3498 - val_acc: 0.8686\n",
            "Epoch 42/50\n",
            "6514/6514 [==============================] - 0s 49us/step - loss: 0.3751 - acc: 0.8657 - val_loss: 0.3442 - val_acc: 0.8845\n",
            "Epoch 43/50\n",
            "6514/6514 [==============================] - 0s 48us/step - loss: 0.3726 - acc: 0.8669 - val_loss: 0.3463 - val_acc: 0.8833\n",
            "Epoch 44/50\n",
            "6514/6514 [==============================] - 0s 49us/step - loss: 0.3748 - acc: 0.8651 - val_loss: 0.3437 - val_acc: 0.8870\n",
            "Epoch 45/50\n",
            "6514/6514 [==============================] - 0s 48us/step - loss: 0.3736 - acc: 0.8651 - val_loss: 0.3433 - val_acc: 0.8870\n",
            "Epoch 46/50\n",
            "6514/6514 [==============================] - 0s 49us/step - loss: 0.3726 - acc: 0.8666 - val_loss: 0.3502 - val_acc: 0.8722\n",
            "Epoch 47/50\n",
            "6514/6514 [==============================] - 0s 48us/step - loss: 0.3737 - acc: 0.8669 - val_loss: 0.3431 - val_acc: 0.8870\n",
            "Epoch 48/50\n",
            "6514/6514 [==============================] - 0s 48us/step - loss: 0.3748 - acc: 0.8657 - val_loss: 0.3462 - val_acc: 0.8735\n",
            "Epoch 49/50\n",
            "6514/6514 [==============================] - 0s 49us/step - loss: 0.3729 - acc: 0.8683 - val_loss: 0.3497 - val_acc: 0.8698\n",
            "Epoch 50/50\n",
            "6514/6514 [==============================] - 0s 47us/step - loss: 0.3734 - acc: 0.8632 - val_loss: 0.3476 - val_acc: 0.8784\n"
          ],
          "name": "stdout"
        }
      ]
    },
    {
      "metadata": {
        "id": "xW8jF2nDIfhS",
        "colab_type": "code",
        "colab": {
          "autoexec": {
            "startup": false,
            "wait_interval": 0
          },
          "base_uri": "https://localhost:8080/",
          "height": 335
        },
        "outputId": "3ab071f0-aae8-4663-d7d1-600cb7c786cd",
        "executionInfo": {
          "status": "ok",
          "timestamp": 1531338227383,
          "user_tz": -180,
          "elapsed": 838,
          "user": {
            "displayName": "Александр Гурьянов",
            "photoUrl": "https://lh3.googleusercontent.com/a/default-user=s128",
            "userId": "112394763101688206932"
          }
        }
      },
      "cell_type": "code",
      "source": [
        "plot_training_history(training_history, 50)"
      ],
      "execution_count": 20,
      "outputs": [
        {
          "output_type": "display_data",
          "data": {
            "image/png": "[encoded data removed]",
            "text/plain": [
              "<matplotlib.figure.Figure at 0x7f92dcf42320>"
            ]
          },
          "metadata": {
            "tags": []
          }
        },
        {
          "output_type": "display_data",
          "data": {
            "image/png": "[encoded data removed]",
            "text/plain": [
              "<matplotlib.figure.Figure at 0x7f92dcd95fd0>"
            ]
          },
          "metadata": {
            "tags": []
          }
        }
      ]
    },
    {
      "metadata": {
        "id": "3JgILCOgiZjj",
        "colab_type": "text"
      },
      "cell_type": "markdown",
      "source": [
        "The loss stabilises, but is still higher than for vgg-19 model."
      ]
    },
    {
      "metadata": {
        "id": "ppkV5wGJi-b0",
        "colab_type": "text"
      },
      "cell_type": "markdown",
      "source": [
        "Here is an example of predicted probabilities."
      ]
    },
    {
      "metadata": {
        "id": "BxYfpxK9U_ix",
        "colab_type": "code",
        "colab": {
          "autoexec": {
            "startup": false,
            "wait_interval": 0
          },
          "base_uri": "https://localhost:8080/",
          "height": 34
        },
        "outputId": "50eda569-90ac-4880-fa61-d3a47527a898",
        "executionInfo": {
          "status": "ok",
          "timestamp": 1531338296306,
          "user_tz": -180,
          "elapsed": 712,
          "user": {
            "displayName": "Александр Гурьянов",
            "photoUrl": "https://lh3.googleusercontent.com/a/default-user=s128",
            "userId": "112394763101688206932"
          }
        }
      },
      "cell_type": "code",
      "source": [
        "print(single_layer_model.predict(np.expand_dims(train_cars[0],axis=0)))"
      ],
      "execution_count": 21,
      "outputs": [
        {
          "output_type": "stream",
          "text": [
            "[[0.36749464 0.6325053 ]]\n"
          ],
          "name": "stdout"
        }
      ]
    },
    {
      "metadata": {
        "id": "5dR79_5BjEOp",
        "colab_type": "text"
      },
      "cell_type": "markdown",
      "source": [
        "Let's look at the metrics on the training dataset."
      ]
    },
    {
      "metadata": {
        "id": "Ko-4tyQGOsLv",
        "colab_type": "code",
        "colab": {
          "autoexec": {
            "startup": false,
            "wait_interval": 0
          },
          "base_uri": "https://localhost:8080/",
          "height": 339
        },
        "outputId": "6fb17355-4c03-4ca0-8aea-fbf3cafa2c74",
        "executionInfo": {
          "status": "ok",
          "timestamp": 1531338302530,
          "user_tz": -180,
          "elapsed": 775,
          "user": {
            "displayName": "Александр Гурьянов",
            "photoUrl": "https://lh3.googleusercontent.com/a/default-user=s128",
            "userId": "112394763101688206932"
          }
        }
      },
      "cell_type": "code",
      "source": [
        "predicted_labels = single_layer_model.predict(train_cars).argmax(axis=-1)\n",
        "display_metrics(train_labels, predicted_labels, (\"Good Cars\", \"Damaged Cars\"))"
      ],
      "execution_count": 22,
      "outputs": [
        {
          "output_type": "stream",
          "text": [
            "Accuracy: 0.8669020571077679\n",
            "\n",
            "Confusion matrix\n"
          ],
          "name": "stdout"
        },
        {
          "output_type": "display_data",
          "data": {
            "text/html": [
              "<div>\n",
              "<style scoped>\n",
              "    .dataframe tbody tr th:only-of-type {\n",
              "        vertical-align: middle;\n",
              "    }\n",
              "\n",
              "    .dataframe tbody tr th {\n",
              "        vertical-align: top;\n",
              "    }\n",
              "\n",
              "    .dataframe thead th {\n",
              "        text-align: right;\n",
              "    }\n",
              "</style>\n",
              "<table border=\"1\" class=\"dataframe\">\n",
              "  <thead>\n",
              "    <tr style=\"text-align: right;\">\n",
              "      <th></th>\n",
              "      <th>Predicted Good Cars</th>\n",
              "      <th>Predicted Damaged Cars</th>\n",
              "    </tr>\n",
              "  </thead>\n",
              "  <tbody>\n",
              "    <tr>\n",
              "      <th>Actual Good Cars</th>\n",
              "      <td>2515</td>\n",
              "      <td>683</td>\n",
              "    </tr>\n",
              "    <tr>\n",
              "      <th>Actual Damaged Cars</th>\n",
              "      <td>184</td>\n",
              "      <td>3132</td>\n",
              "    </tr>\n",
              "  </tbody>\n",
              "</table>\n",
              "</div>"
            ],
            "text/plain": [
              "                     Predicted Good Cars  Predicted Damaged Cars\n",
              "Actual Good Cars                    2515                     683\n",
              "Actual Damaged Cars                  184                    3132"
            ]
          },
          "metadata": {
            "tags": []
          }
        },
        {
          "output_type": "stream",
          "text": [
            "\n",
            "Precision, recall, F-score, support\n"
          ],
          "name": "stdout"
        },
        {
          "output_type": "display_data",
          "data": {
            "text/html": [
              "<div>\n",
              "<style scoped>\n",
              "    .dataframe tbody tr th:only-of-type {\n",
              "        vertical-align: middle;\n",
              "    }\n",
              "\n",
              "    .dataframe tbody tr th {\n",
              "        vertical-align: top;\n",
              "    }\n",
              "\n",
              "    .dataframe thead th {\n",
              "        text-align: right;\n",
              "    }\n",
              "</style>\n",
              "<table border=\"1\" class=\"dataframe\">\n",
              "  <thead>\n",
              "    <tr style=\"text-align: right;\">\n",
              "      <th></th>\n",
              "      <th>Good Cars</th>\n",
              "      <th>Damaged Cars</th>\n",
              "    </tr>\n",
              "  </thead>\n",
              "  <tbody>\n",
              "    <tr>\n",
              "      <th>precision</th>\n",
              "      <td>0.931827</td>\n",
              "      <td>0.820970</td>\n",
              "    </tr>\n",
              "    <tr>\n",
              "      <th>recall</th>\n",
              "      <td>0.786429</td>\n",
              "      <td>0.944511</td>\n",
              "    </tr>\n",
              "    <tr>\n",
              "      <th>F-score</th>\n",
              "      <td>0.852976</td>\n",
              "      <td>0.878418</td>\n",
              "    </tr>\n",
              "    <tr>\n",
              "      <th>support</th>\n",
              "      <td>3198.000000</td>\n",
              "      <td>3316.000000</td>\n",
              "    </tr>\n",
              "  </tbody>\n",
              "</table>\n",
              "</div>"
            ],
            "text/plain": [
              "             Good Cars  Damaged Cars\n",
              "precision     0.931827      0.820970\n",
              "recall        0.786429      0.944511\n",
              "F-score       0.852976      0.878418\n",
              "support    3198.000000   3316.000000"
            ]
          },
          "metadata": {
            "tags": []
          }
        }
      ]
    },
    {
      "metadata": {
        "id": "gZSvfBhrjXW8",
        "colab_type": "text"
      },
      "cell_type": "markdown",
      "source": [
        "Now for the validation dataset."
      ]
    },
    {
      "metadata": {
        "id": "9-pmlDOGQfXw",
        "colab_type": "code",
        "colab": {
          "autoexec": {
            "startup": false,
            "wait_interval": 0
          },
          "base_uri": "https://localhost:8080/",
          "height": 339
        },
        "outputId": "4c8e70b5-91a5-4d77-c725-efd5740f0d37",
        "executionInfo": {
          "status": "ok",
          "timestamp": 1531338313880,
          "user_tz": -180,
          "elapsed": 687,
          "user": {
            "displayName": "Александр Гурьянов",
            "photoUrl": "https://lh3.googleusercontent.com/a/default-user=s128",
            "userId": "112394763101688206932"
          }
        }
      },
      "cell_type": "code",
      "source": [
        "predicted_labels_valid = single_layer_model.predict(valid_cars).argmax(axis=-1)\n",
        "display_metrics(valid_labels, predicted_labels_valid, (\"Good Cars\", \"Damaged Cars\"))"
      ],
      "execution_count": 23,
      "outputs": [
        {
          "output_type": "stream",
          "text": [
            "Accuracy: 0.8783783783783784\n",
            "\n",
            "Confusion matrix\n"
          ],
          "name": "stdout"
        },
        {
          "output_type": "display_data",
          "data": {
            "text/html": [
              "<div>\n",
              "<style scoped>\n",
              "    .dataframe tbody tr th:only-of-type {\n",
              "        vertical-align: middle;\n",
              "    }\n",
              "\n",
              "    .dataframe tbody tr th {\n",
              "        vertical-align: top;\n",
              "    }\n",
              "\n",
              "    .dataframe thead th {\n",
              "        text-align: right;\n",
              "    }\n",
              "</style>\n",
              "<table border=\"1\" class=\"dataframe\">\n",
              "  <thead>\n",
              "    <tr style=\"text-align: right;\">\n",
              "      <th></th>\n",
              "      <th>Predicted Good Cars</th>\n",
              "      <th>Predicted Damaged Cars</th>\n",
              "    </tr>\n",
              "  </thead>\n",
              "  <tbody>\n",
              "    <tr>\n",
              "      <th>Actual Good Cars</th>\n",
              "      <td>317</td>\n",
              "      <td>76</td>\n",
              "    </tr>\n",
              "    <tr>\n",
              "      <th>Actual Damaged Cars</th>\n",
              "      <td>23</td>\n",
              "      <td>398</td>\n",
              "    </tr>\n",
              "  </tbody>\n",
              "</table>\n",
              "</div>"
            ],
            "text/plain": [
              "                     Predicted Good Cars  Predicted Damaged Cars\n",
              "Actual Good Cars                     317                      76\n",
              "Actual Damaged Cars                   23                     398"
            ]
          },
          "metadata": {
            "tags": []
          }
        },
        {
          "output_type": "stream",
          "text": [
            "\n",
            "Precision, recall, F-score, support\n"
          ],
          "name": "stdout"
        },
        {
          "output_type": "display_data",
          "data": {
            "text/html": [
              "<div>\n",
              "<style scoped>\n",
              "    .dataframe tbody tr th:only-of-type {\n",
              "        vertical-align: middle;\n",
              "    }\n",
              "\n",
              "    .dataframe tbody tr th {\n",
              "        vertical-align: top;\n",
              "    }\n",
              "\n",
              "    .dataframe thead th {\n",
              "        text-align: right;\n",
              "    }\n",
              "</style>\n",
              "<table border=\"1\" class=\"dataframe\">\n",
              "  <thead>\n",
              "    <tr style=\"text-align: right;\">\n",
              "      <th></th>\n",
              "      <th>Good Cars</th>\n",
              "      <th>Damaged Cars</th>\n",
              "    </tr>\n",
              "  </thead>\n",
              "  <tbody>\n",
              "    <tr>\n",
              "      <th>precision</th>\n",
              "      <td>0.932353</td>\n",
              "      <td>0.839662</td>\n",
              "    </tr>\n",
              "    <tr>\n",
              "      <th>recall</th>\n",
              "      <td>0.806616</td>\n",
              "      <td>0.945368</td>\n",
              "    </tr>\n",
              "    <tr>\n",
              "      <th>F-score</th>\n",
              "      <td>0.864939</td>\n",
              "      <td>0.889385</td>\n",
              "    </tr>\n",
              "    <tr>\n",
              "      <th>support</th>\n",
              "      <td>393.000000</td>\n",
              "      <td>421.000000</td>\n",
              "    </tr>\n",
              "  </tbody>\n",
              "</table>\n",
              "</div>"
            ],
            "text/plain": [
              "            Good Cars  Damaged Cars\n",
              "precision    0.932353      0.839662\n",
              "recall       0.806616      0.945368\n",
              "F-score      0.864939      0.889385\n",
              "support    393.000000    421.000000"
            ]
          },
          "metadata": {
            "tags": []
          }
        }
      ]
    },
    {
      "metadata": {
        "id": "m_o5anHLjgZU",
        "colab_type": "text"
      },
      "cell_type": "markdown",
      "source": [
        "The results are consistent, but worse than for the model with features extracted from vgg-19."
      ]
    },
    {
      "metadata": {
        "id": "luSlZMUdjxTf",
        "colab_type": "text"
      },
      "cell_type": "markdown",
      "source": [
        "## Multiple layers"
      ]
    },
    {
      "metadata": {
        "id": "ksPSnjcx4rGT",
        "colab_type": "text"
      },
      "cell_type": "markdown",
      "source": [
        "Let's add to the model one more intermediate dense layer followed by a dropout layer for regularisation."
      ]
    },
    {
      "metadata": {
        "id": "RugxHRnmZI6U",
        "colab_type": "code",
        "colab": {
          "autoexec": {
            "startup": false,
            "wait_interval": 0
          }
        }
      },
      "cell_type": "code",
      "source": [
        "x = Input(shape=(input_shape))\n",
        "z = Dense(512, activation='relu')(x)\n",
        "z = Dropout(0.6)(z)\n",
        "y = Dense(2, activation='softmax')(z)\n",
        "multiple_layer_model = Model(x, y)\n",
        "multiple_layer_model.compile(loss='categorical_crossentropy',\n",
        "              optimizer='adam',\n",
        "              metrics=['accuracy'])"
      ],
      "execution_count": 0,
      "outputs": []
    },
    {
      "metadata": {
        "id": "INckwUqBkhKH",
        "colab_type": "code",
        "colab": {
          "autoexec": {
            "startup": false,
            "wait_interval": 0
          },
          "base_uri": "https://localhost:8080/",
          "height": 269
        },
        "outputId": "8c5cc658-18f5-472c-fba3-75d23099e341",
        "executionInfo": {
          "status": "ok",
          "timestamp": 1531338488219,
          "user_tz": -180,
          "elapsed": 727,
          "user": {
            "displayName": "Александр Гурьянов",
            "photoUrl": "https://lh3.googleusercontent.com/a/default-user=s128",
            "userId": "112394763101688206932"
          }
        }
      },
      "cell_type": "code",
      "source": [
        "multiple_layer_model.summary()"
      ],
      "execution_count": 25,
      "outputs": [
        {
          "output_type": "stream",
          "text": [
            "_________________________________________________________________\n",
            "Layer (type)                 Output Shape              Param #   \n",
            "=================================================================\n",
            "input_5 (InputLayer)         (None, 2048)              0         \n",
            "_________________________________________________________________\n",
            "dense_5 (Dense)              (None, 512)               1049088   \n",
            "_________________________________________________________________\n",
            "dropout_1 (Dropout)          (None, 512)               0         \n",
            "_________________________________________________________________\n",
            "dense_6 (Dense)              (None, 2)                 1026      \n",
            "=================================================================\n",
            "Total params: 1,050,114\n",
            "Trainable params: 1,050,114\n",
            "Non-trainable params: 0\n",
            "_________________________________________________________________\n"
          ],
          "name": "stdout"
        }
      ]
    },
    {
      "metadata": {
        "id": "sfCU7PKhkjyr",
        "colab_type": "code",
        "colab": {
          "autoexec": {
            "startup": false,
            "wait_interval": 0
          },
          "base_uri": "https://localhost:8080/",
          "height": 1734
        },
        "outputId": "0de41e7a-bae0-4b75-a5b2-915d1dc98daa",
        "executionInfo": {
          "status": "ok",
          "timestamp": 1531338745209,
          "user_tz": -180,
          "elapsed": 12920,
          "user": {
            "displayName": "Александр Гурьянов",
            "photoUrl": "https://lh3.googleusercontent.com/a/default-user=s128",
            "userId": "112394763101688206932"
          }
        }
      },
      "cell_type": "code",
      "source": [
        "training_history = multiple_layer_model.fit(train_cars, train_labels_probabilities, batch_size=256, epochs=50, validation_data=(valid_cars, valid_labels_probabilities))"
      ],
      "execution_count": 36,
      "outputs": [
        {
          "output_type": "stream",
          "text": [
            "Train on 6514 samples, validate on 814 samples\n",
            "Epoch 1/50\n",
            "6514/6514 [==============================] - 1s 87us/step - loss: 0.6303 - acc: 0.6896 - val_loss: 0.3923 - val_acc: 0.8280\n",
            "Epoch 2/50\n",
            "6514/6514 [==============================] - 0s 33us/step - loss: 0.4124 - acc: 0.8135 - val_loss: 0.3381 - val_acc: 0.8501\n",
            "Epoch 3/50\n",
            "6514/6514 [==============================] - 0s 31us/step - loss: 0.3717 - acc: 0.8394 - val_loss: 0.3101 - val_acc: 0.8661\n",
            "Epoch 4/50\n",
            "6514/6514 [==============================] - 0s 31us/step - loss: 0.3473 - acc: 0.8460 - val_loss: 0.2982 - val_acc: 0.8624\n",
            "Epoch 5/50\n",
            "6514/6514 [==============================] - 0s 32us/step - loss: 0.3436 - acc: 0.8499 - val_loss: 0.2884 - val_acc: 0.8661\n",
            "Epoch 6/50\n",
            "6514/6514 [==============================] - 0s 33us/step - loss: 0.3178 - acc: 0.8640 - val_loss: 0.2698 - val_acc: 0.8870\n",
            "Epoch 7/50\n",
            "6514/6514 [==============================] - 0s 36us/step - loss: 0.3087 - acc: 0.8621 - val_loss: 0.2691 - val_acc: 0.8821\n",
            "Epoch 8/50\n",
            "6514/6514 [==============================] - 0s 37us/step - loss: 0.2990 - acc: 0.8721 - val_loss: 0.2548 - val_acc: 0.8968\n",
            "Epoch 9/50\n",
            "6514/6514 [==============================] - 0s 37us/step - loss: 0.2887 - acc: 0.8757 - val_loss: 0.2460 - val_acc: 0.9005\n",
            "Epoch 10/50\n",
            "6514/6514 [==============================] - 0s 36us/step - loss: 0.2860 - acc: 0.8793 - val_loss: 0.2440 - val_acc: 0.9017\n",
            "Epoch 11/50\n",
            "6514/6514 [==============================] - 0s 35us/step - loss: 0.2803 - acc: 0.8741 - val_loss: 0.2463 - val_acc: 0.8980\n",
            "Epoch 12/50\n",
            "6514/6514 [==============================] - 0s 35us/step - loss: 0.2749 - acc: 0.8813 - val_loss: 0.2550 - val_acc: 0.8894\n",
            "Epoch 13/50\n",
            "6514/6514 [==============================] - 0s 36us/step - loss: 0.2763 - acc: 0.8810 - val_loss: 0.2357 - val_acc: 0.9042\n",
            "Epoch 14/50\n",
            "6514/6514 [==============================] - 0s 35us/step - loss: 0.2668 - acc: 0.8889 - val_loss: 0.2322 - val_acc: 0.9017\n",
            "Epoch 15/50\n",
            "6514/6514 [==============================] - 0s 35us/step - loss: 0.2616 - acc: 0.8884 - val_loss: 0.2414 - val_acc: 0.8943\n",
            "Epoch 16/50\n",
            "6514/6514 [==============================] - 0s 36us/step - loss: 0.2598 - acc: 0.8887 - val_loss: 0.2265 - val_acc: 0.9066\n",
            "Epoch 17/50\n",
            "1792/6514 [=======>......................] - ETA: 0s - loss: 0.2541 - acc: 0.8973"
          ],
          "name": "stdout"
        },
        {
          "output_type": "stream",
          "text": [
            "6514/6514 [==============================] - 0s 36us/step - loss: 0.2526 - acc: 0.8930 - val_loss: 0.2358 - val_acc: 0.9054\n",
            "Epoch 18/50\n",
            "6514/6514 [==============================] - 0s 36us/step - loss: 0.2602 - acc: 0.8896 - val_loss: 0.2406 - val_acc: 0.9029\n",
            "Epoch 19/50\n",
            "6514/6514 [==============================] - 0s 37us/step - loss: 0.2469 - acc: 0.8993 - val_loss: 0.2230 - val_acc: 0.9042\n",
            "Epoch 20/50\n",
            "6514/6514 [==============================] - 0s 37us/step - loss: 0.2516 - acc: 0.8945 - val_loss: 0.2548 - val_acc: 0.8919\n",
            "Epoch 21/50\n",
            "6514/6514 [==============================] - 0s 37us/step - loss: 0.2437 - acc: 0.8973 - val_loss: 0.2244 - val_acc: 0.9029\n",
            "Epoch 22/50\n",
            "6514/6514 [==============================] - 0s 35us/step - loss: 0.2423 - acc: 0.8981 - val_loss: 0.2368 - val_acc: 0.8907\n",
            "Epoch 23/50\n",
            "6514/6514 [==============================] - 0s 37us/step - loss: 0.2355 - acc: 0.9018 - val_loss: 0.2176 - val_acc: 0.9091\n",
            "Epoch 24/50\n",
            "6514/6514 [==============================] - 0s 36us/step - loss: 0.2305 - acc: 0.9011 - val_loss: 0.2362 - val_acc: 0.9029\n",
            "Epoch 25/50\n",
            "6514/6514 [==============================] - 0s 35us/step - loss: 0.2321 - acc: 0.9014 - val_loss: 0.2146 - val_acc: 0.9103\n",
            "Epoch 26/50\n",
            "6514/6514 [==============================] - 0s 36us/step - loss: 0.2298 - acc: 0.9059 - val_loss: 0.2138 - val_acc: 0.9079\n",
            "Epoch 27/50\n",
            "6514/6514 [==============================] - 0s 36us/step - loss: 0.2313 - acc: 0.9002 - val_loss: 0.2225 - val_acc: 0.8980\n",
            "Epoch 28/50\n",
            "6514/6514 [==============================] - 0s 35us/step - loss: 0.2232 - acc: 0.9076 - val_loss: 0.2108 - val_acc: 0.9152\n",
            "Epoch 29/50\n",
            "6514/6514 [==============================] - 0s 36us/step - loss: 0.2208 - acc: 0.9080 - val_loss: 0.2083 - val_acc: 0.9165\n",
            "Epoch 30/50\n",
            "6514/6514 [==============================] - 0s 35us/step - loss: 0.2209 - acc: 0.9062 - val_loss: 0.2090 - val_acc: 0.9214\n",
            "Epoch 31/50\n",
            "6514/6514 [==============================] - 0s 36us/step - loss: 0.2231 - acc: 0.9073 - val_loss: 0.2204 - val_acc: 0.9079\n",
            "Epoch 32/50\n",
            "6514/6514 [==============================] - 0s 36us/step - loss: 0.2179 - acc: 0.9097 - val_loss: 0.2130 - val_acc: 0.9103\n",
            "Epoch 33/50\n",
            "5120/6514 [======================>.......] - ETA: 0s - loss: 0.2100 - acc: 0.9133"
          ],
          "name": "stdout"
        },
        {
          "output_type": "stream",
          "text": [
            "6514/6514 [==============================] - 0s 36us/step - loss: 0.2107 - acc: 0.9136 - val_loss: 0.2055 - val_acc: 0.9140\n",
            "Epoch 34/50\n",
            "6514/6514 [==============================] - 0s 36us/step - loss: 0.2151 - acc: 0.9103 - val_loss: 0.2138 - val_acc: 0.8993\n",
            "Epoch 35/50\n",
            "6514/6514 [==============================] - 0s 36us/step - loss: 0.2172 - acc: 0.9073 - val_loss: 0.2174 - val_acc: 0.8980\n",
            "Epoch 36/50\n",
            "6514/6514 [==============================] - 0s 35us/step - loss: 0.2340 - acc: 0.8987 - val_loss: 0.2156 - val_acc: 0.9152\n",
            "Epoch 37/50\n",
            "6514/6514 [==============================] - 0s 36us/step - loss: 0.2159 - acc: 0.9123 - val_loss: 0.2273 - val_acc: 0.9079\n",
            "Epoch 38/50\n",
            "6514/6514 [==============================] - 0s 37us/step - loss: 0.2171 - acc: 0.9067 - val_loss: 0.2049 - val_acc: 0.9189\n",
            "Epoch 39/50\n",
            "6514/6514 [==============================] - 0s 36us/step - loss: 0.2116 - acc: 0.9108 - val_loss: 0.2086 - val_acc: 0.9140\n",
            "Epoch 40/50\n",
            "6514/6514 [==============================] - 0s 37us/step - loss: 0.2150 - acc: 0.9087 - val_loss: 0.2050 - val_acc: 0.9152\n",
            "Epoch 41/50\n",
            "6514/6514 [==============================] - 0s 35us/step - loss: 0.2048 - acc: 0.9162 - val_loss: 0.2093 - val_acc: 0.9091\n",
            "Epoch 42/50\n",
            "6514/6514 [==============================] - 0s 35us/step - loss: 0.2018 - acc: 0.9176 - val_loss: 0.2275 - val_acc: 0.8870\n",
            "Epoch 43/50\n",
            "6514/6514 [==============================] - 0s 36us/step - loss: 0.2094 - acc: 0.9119 - val_loss: 0.2342 - val_acc: 0.8821\n",
            "Epoch 44/50\n",
            "6514/6514 [==============================] - 0s 35us/step - loss: 0.2058 - acc: 0.9153 - val_loss: 0.2039 - val_acc: 0.9017\n",
            "Epoch 45/50\n",
            "6514/6514 [==============================] - 0s 35us/step - loss: 0.1960 - acc: 0.9185 - val_loss: 0.2291 - val_acc: 0.8857\n",
            "Epoch 46/50\n",
            "6514/6514 [==============================] - 0s 37us/step - loss: 0.1975 - acc: 0.9189 - val_loss: 0.2045 - val_acc: 0.9177\n",
            "Epoch 47/50\n",
            "6514/6514 [==============================] - 0s 36us/step - loss: 0.2043 - acc: 0.9143 - val_loss: 0.2301 - val_acc: 0.9042\n",
            "Epoch 48/50\n",
            "6514/6514 [==============================] - 0s 35us/step - loss: 0.2070 - acc: 0.9148 - val_loss: 0.2025 - val_acc: 0.9189\n",
            "Epoch 49/50\n",
            "3584/6514 [===============>..............] - ETA: 0s - loss: 0.1908 - acc: 0.9194"
          ],
          "name": "stdout"
        },
        {
          "output_type": "stream",
          "text": [
            "6514/6514 [==============================] - 0s 35us/step - loss: 0.2003 - acc: 0.9162 - val_loss: 0.2458 - val_acc: 0.8968\n",
            "Epoch 50/50\n",
            "6514/6514 [==============================] - 0s 37us/step - loss: 0.2037 - acc: 0.9105 - val_loss: 0.2199 - val_acc: 0.9115\n"
          ],
          "name": "stdout"
        }
      ]
    },
    {
      "metadata": {
        "id": "eKIVedUikuUP",
        "colab_type": "code",
        "colab": {
          "autoexec": {
            "startup": false,
            "wait_interval": 0
          },
          "base_uri": "https://localhost:8080/",
          "height": 335
        },
        "outputId": "ded12808-e701-4f73-ecde-6f63fa880e0d",
        "executionInfo": {
          "status": "ok",
          "timestamp": 1531338753108,
          "user_tz": -180,
          "elapsed": 942,
          "user": {
            "displayName": "Александр Гурьянов",
            "photoUrl": "https://lh3.googleusercontent.com/a/default-user=s128",
            "userId": "112394763101688206932"
          }
        }
      },
      "cell_type": "code",
      "source": [
        "plot_training_history(training_history, 50)"
      ],
      "execution_count": 37,
      "outputs": [
        {
          "output_type": "display_data",
          "data": {
            "image/png": "[encoded data removed]",
            "text/plain": [
              "<matplotlib.figure.Figure at 0x7f930988d5f8>"
            ]
          },
          "metadata": {
            "tags": []
          }
        },
        {
          "output_type": "display_data",
          "data": {
            "image/png": "[encoded data removed]",
            "text/plain": [
              "<matplotlib.figure.Figure at 0x7f92e023def0>"
            ]
          },
          "metadata": {
            "tags": []
          }
        }
      ]
    },
    {
      "metadata": {
        "id": "QXWC0_-Isq52",
        "colab_type": "text"
      },
      "cell_type": "markdown",
      "source": [
        "Let's look at the metrics on the training dataset."
      ]
    },
    {
      "metadata": {
        "id": "loVFQ1u6sPAM",
        "colab_type": "code",
        "colab": {
          "autoexec": {
            "startup": false,
            "wait_interval": 0
          },
          "base_uri": "https://localhost:8080/",
          "height": 339
        },
        "outputId": "6e089a06-2424-4b46-c165-1a2b479c0dc4",
        "executionInfo": {
          "status": "ok",
          "timestamp": 1531338796153,
          "user_tz": -180,
          "elapsed": 1121,
          "user": {
            "displayName": "Александр Гурьянов",
            "photoUrl": "https://lh3.googleusercontent.com/a/default-user=s128",
            "userId": "112394763101688206932"
          }
        }
      },
      "cell_type": "code",
      "source": [
        "predicted_labels = multiple_layer_model.predict(train_cars).argmax(axis=-1)\n",
        "display_metrics(train_labels, predicted_labels, (\"Good Cars\", \"Damaged Cars\"))"
      ],
      "execution_count": 38,
      "outputs": [
        {
          "output_type": "stream",
          "text": [
            "Accuracy: 0.9128031931225054\n",
            "\n",
            "Confusion matrix\n"
          ],
          "name": "stdout"
        },
        {
          "output_type": "display_data",
          "data": {
            "text/html": [
              "<div>\n",
              "<style scoped>\n",
              "    .dataframe tbody tr th:only-of-type {\n",
              "        vertical-align: middle;\n",
              "    }\n",
              "\n",
              "    .dataframe tbody tr th {\n",
              "        vertical-align: top;\n",
              "    }\n",
              "\n",
              "    .dataframe thead th {\n",
              "        text-align: right;\n",
              "    }\n",
              "</style>\n",
              "<table border=\"1\" class=\"dataframe\">\n",
              "  <thead>\n",
              "    <tr style=\"text-align: right;\">\n",
              "      <th></th>\n",
              "      <th>Predicted Good Cars</th>\n",
              "      <th>Predicted Damaged Cars</th>\n",
              "    </tr>\n",
              "  </thead>\n",
              "  <tbody>\n",
              "    <tr>\n",
              "      <th>Actual Good Cars</th>\n",
              "      <td>2689</td>\n",
              "      <td>509</td>\n",
              "    </tr>\n",
              "    <tr>\n",
              "      <th>Actual Damaged Cars</th>\n",
              "      <td>59</td>\n",
              "      <td>3257</td>\n",
              "    </tr>\n",
              "  </tbody>\n",
              "</table>\n",
              "</div>"
            ],
            "text/plain": [
              "                     Predicted Good Cars  Predicted Damaged Cars\n",
              "Actual Good Cars                    2689                     509\n",
              "Actual Damaged Cars                   59                    3257"
            ]
          },
          "metadata": {
            "tags": []
          }
        },
        {
          "output_type": "stream",
          "text": [
            "\n",
            "Precision, recall, F-score, support\n"
          ],
          "name": "stdout"
        },
        {
          "output_type": "display_data",
          "data": {
            "text/html": [
              "<div>\n",
              "<style scoped>\n",
              "    .dataframe tbody tr th:only-of-type {\n",
              "        vertical-align: middle;\n",
              "    }\n",
              "\n",
              "    .dataframe tbody tr th {\n",
              "        vertical-align: top;\n",
              "    }\n",
              "\n",
              "    .dataframe thead th {\n",
              "        text-align: right;\n",
              "    }\n",
              "</style>\n",
              "<table border=\"1\" class=\"dataframe\">\n",
              "  <thead>\n",
              "    <tr style=\"text-align: right;\">\n",
              "      <th></th>\n",
              "      <th>Good Cars</th>\n",
              "      <th>Damaged Cars</th>\n",
              "    </tr>\n",
              "  </thead>\n",
              "  <tbody>\n",
              "    <tr>\n",
              "      <th>precision</th>\n",
              "      <td>0.978530</td>\n",
              "      <td>0.864843</td>\n",
              "    </tr>\n",
              "    <tr>\n",
              "      <th>recall</th>\n",
              "      <td>0.840838</td>\n",
              "      <td>0.982207</td>\n",
              "    </tr>\n",
              "    <tr>\n",
              "      <th>F-score</th>\n",
              "      <td>0.904474</td>\n",
              "      <td>0.919797</td>\n",
              "    </tr>\n",
              "    <tr>\n",
              "      <th>support</th>\n",
              "      <td>3198.000000</td>\n",
              "      <td>3316.000000</td>\n",
              "    </tr>\n",
              "  </tbody>\n",
              "</table>\n",
              "</div>"
            ],
            "text/plain": [
              "             Good Cars  Damaged Cars\n",
              "precision     0.978530      0.864843\n",
              "recall        0.840838      0.982207\n",
              "F-score       0.904474      0.919797\n",
              "support    3198.000000   3316.000000"
            ]
          },
          "metadata": {
            "tags": []
          }
        }
      ]
    },
    {
      "metadata": {
        "id": "kaoah-kgs_mh",
        "colab_type": "text"
      },
      "cell_type": "markdown",
      "source": [
        "Now for the validation dataset."
      ]
    },
    {
      "metadata": {
        "id": "KYNCxjSYsxk_",
        "colab_type": "code",
        "colab": {
          "autoexec": {
            "startup": false,
            "wait_interval": 0
          },
          "base_uri": "https://localhost:8080/",
          "height": 339
        },
        "outputId": "8b1d9d26-2a90-4d23-d15c-218e029e4952",
        "executionInfo": {
          "status": "ok",
          "timestamp": 1531338800520,
          "user_tz": -180,
          "elapsed": 580,
          "user": {
            "displayName": "Александр Гурьянов",
            "photoUrl": "https://lh3.googleusercontent.com/a/default-user=s128",
            "userId": "112394763101688206932"
          }
        }
      },
      "cell_type": "code",
      "source": [
        "predicted_labels_valid = multiple_layer_model.predict(valid_cars).argmax(axis=-1)\n",
        "display_metrics(valid_labels, predicted_labels_valid, (\"Good Cars\", \"Damaged Cars\"))"
      ],
      "execution_count": 39,
      "outputs": [
        {
          "output_type": "stream",
          "text": [
            "Accuracy: 0.9115479115479116\n",
            "\n",
            "Confusion matrix\n"
          ],
          "name": "stdout"
        },
        {
          "output_type": "display_data",
          "data": {
            "text/html": [
              "<div>\n",
              "<style scoped>\n",
              "    .dataframe tbody tr th:only-of-type {\n",
              "        vertical-align: middle;\n",
              "    }\n",
              "\n",
              "    .dataframe tbody tr th {\n",
              "        vertical-align: top;\n",
              "    }\n",
              "\n",
              "    .dataframe thead th {\n",
              "        text-align: right;\n",
              "    }\n",
              "</style>\n",
              "<table border=\"1\" class=\"dataframe\">\n",
              "  <thead>\n",
              "    <tr style=\"text-align: right;\">\n",
              "      <th></th>\n",
              "      <th>Predicted Good Cars</th>\n",
              "      <th>Predicted Damaged Cars</th>\n",
              "    </tr>\n",
              "  </thead>\n",
              "  <tbody>\n",
              "    <tr>\n",
              "      <th>Actual Good Cars</th>\n",
              "      <td>332</td>\n",
              "      <td>61</td>\n",
              "    </tr>\n",
              "    <tr>\n",
              "      <th>Actual Damaged Cars</th>\n",
              "      <td>11</td>\n",
              "      <td>410</td>\n",
              "    </tr>\n",
              "  </tbody>\n",
              "</table>\n",
              "</div>"
            ],
            "text/plain": [
              "                     Predicted Good Cars  Predicted Damaged Cars\n",
              "Actual Good Cars                     332                      61\n",
              "Actual Damaged Cars                   11                     410"
            ]
          },
          "metadata": {
            "tags": []
          }
        },
        {
          "output_type": "stream",
          "text": [
            "\n",
            "Precision, recall, F-score, support\n"
          ],
          "name": "stdout"
        },
        {
          "output_type": "display_data",
          "data": {
            "text/html": [
              "<div>\n",
              "<style scoped>\n",
              "    .dataframe tbody tr th:only-of-type {\n",
              "        vertical-align: middle;\n",
              "    }\n",
              "\n",
              "    .dataframe tbody tr th {\n",
              "        vertical-align: top;\n",
              "    }\n",
              "\n",
              "    .dataframe thead th {\n",
              "        text-align: right;\n",
              "    }\n",
              "</style>\n",
              "<table border=\"1\" class=\"dataframe\">\n",
              "  <thead>\n",
              "    <tr style=\"text-align: right;\">\n",
              "      <th></th>\n",
              "      <th>Good Cars</th>\n",
              "      <th>Damaged Cars</th>\n",
              "    </tr>\n",
              "  </thead>\n",
              "  <tbody>\n",
              "    <tr>\n",
              "      <th>precision</th>\n",
              "      <td>0.967930</td>\n",
              "      <td>0.870488</td>\n",
              "    </tr>\n",
              "    <tr>\n",
              "      <th>recall</th>\n",
              "      <td>0.844784</td>\n",
              "      <td>0.973872</td>\n",
              "    </tr>\n",
              "    <tr>\n",
              "      <th>F-score</th>\n",
              "      <td>0.902174</td>\n",
              "      <td>0.919283</td>\n",
              "    </tr>\n",
              "    <tr>\n",
              "      <th>support</th>\n",
              "      <td>393.000000</td>\n",
              "      <td>421.000000</td>\n",
              "    </tr>\n",
              "  </tbody>\n",
              "</table>\n",
              "</div>"
            ],
            "text/plain": [
              "            Good Cars  Damaged Cars\n",
              "precision    0.967930      0.870488\n",
              "recall       0.844784      0.973872\n",
              "F-score      0.902174      0.919283\n",
              "support    393.000000    421.000000"
            ]
          },
          "metadata": {
            "tags": []
          }
        }
      ]
    },
    {
      "metadata": {
        "id": "ZxwmnFPD6FB1",
        "colab_type": "text"
      },
      "cell_type": "markdown",
      "source": [
        "Adding more layers has markedly improved the model camparing to the single layer case, but it still underperforms compared to analogous model with vgg-19 features.\n",
        "\n",
        "Let's save the weights for the multiple layer model."
      ]
    },
    {
      "metadata": {
        "id": "zv7sLs6MtHSx",
        "colab_type": "code",
        "colab": {
          "autoexec": {
            "startup": false,
            "wait_interval": 0
          }
        }
      },
      "cell_type": "code",
      "source": [
        "single_layer_model.save_weights('resnet50_multiple_layer_model_loss_0.2037.h5')\n",
        "\n",
        "files.download('resnet50_multiple_layer_model_loss_0.2037.h5')"
      ],
      "execution_count": 0,
      "outputs": []
    }
  ]
}