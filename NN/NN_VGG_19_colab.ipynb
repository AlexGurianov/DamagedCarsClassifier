{
  "nbformat": 4,
  "nbformat_minor": 0,
  "metadata": {
    "colab": {
      "name": "NN_VGG_19_colab.ipynb",
      "version": "0.3.2",
      "views": {},
      "default_view": {},
      "provenance": [],
      "collapsed_sections": []
    },
    "kernelspec": {
      "name": "python3",
      "display_name": "Python 3"
    },
    "accelerator": "GPU"
  },
  "cells": [
    {
      "metadata": {
        "id": "MfmYC3pvkgCa",
        "colab_type": "code",
        "colab": {
          "autoexec": {
            "startup": false,
            "wait_interval": 0
          },
          "resources": {
            "http://localhost:8080/nbextensions/google.colab/files.js": {
              "data": "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",
              "ok": true,
              "headers": [
                [
                  "content-type",
                  "application/javascript"
                ]
              ],
              "status": 200,
              "status_text": ""
            }
          },
          "base_uri": "https://localhost:8080/",
          "height": 106
        },
        "outputId": "92050b76-fd1e-4ce5-a1e1-24f25099d43a",
        "executionInfo": {
          "status": "ok",
          "timestamp": 1531336823569,
          "user_tz": -180,
          "elapsed": 1056760,
          "user": {
            "displayName": "Александр Гурьянов",
            "photoUrl": "https://lh3.googleusercontent.com/a/default-user=s128",
            "userId": "112394763101688206932"
          }
        }
      },
      "cell_type": "code",
      "source": [
        "from google.colab import files\n",
        "uploaded = files.upload()"
      ],
      "execution_count": 1,
      "outputs": [
        {
          "output_type": "display_data",
          "data": {
            "text/html": [
              "\n",
              "     <input type=\"file\" id=\"files-6b0bfec9-fc85-43e6-8be8-019313c8eefd\" name=\"files[]\" multiple disabled />\n",
              "     <output id=\"result-6b0bfec9-fc85-43e6-8be8-019313c8eefd\">\n",
              "      Upload widget is only available when the cell has been executed in the\n",
              "      current browser session. Please rerun this cell to enable.\n",
              "      </output>\n",
              "      <script src=\"/nbextensions/google.colab/files.js\"></script> "
            ],
            "text/plain": [
              "<IPython.core.display.HTML object>"
            ]
          },
          "metadata": {
            "tags": []
          }
        },
        {
          "output_type": "stream",
          "text": [
            "Saving train_vgg_19.p to train_vgg_19 (2).p\n",
            "Saving valid_vgg_19.p to valid_vgg_19 (1).p\n"
          ],
          "name": "stdout"
        }
      ]
    },
    {
      "metadata": {
        "id": "Z2fdBOBEk1dI",
        "colab_type": "code",
        "colab": {
          "autoexec": {
            "startup": false,
            "wait_interval": 0
          },
          "base_uri": "https://localhost:8080/",
          "height": 34
        },
        "outputId": "2751f6f2-5562-4171-c920-5bdf01e7cb74",
        "executionInfo": {
          "status": "ok",
          "timestamp": 1531337105229,
          "user_tz": -180,
          "elapsed": 1655,
          "user": {
            "displayName": "Александр Гурьянов",
            "photoUrl": "https://lh3.googleusercontent.com/a/default-user=s128",
            "userId": "112394763101688206932"
          }
        }
      },
      "cell_type": "code",
      "source": [
        "import numpy as np\n",
        "import pickle\n",
        "import keras.utils as utils\n",
        "from keras.models import Model\n",
        "from keras.layers import Dense, Dropout, Input\n",
        "from keras import regularizers\n",
        "import matplotlib.pyplot as plt\n",
        "%matplotlib inline\n",
        "from pandas import DataFrame\n",
        "from sklearn.metrics import accuracy_score, confusion_matrix, precision_recall_fscore_support"
      ],
      "execution_count": 2,
      "outputs": [
        {
          "output_type": "stream",
          "text": [
            "Using TensorFlow backend.\n"
          ],
          "name": "stderr"
        }
      ]
    },
    {
      "metadata": {
        "id": "t4aTcyrtcKlP",
        "colab_type": "text"
      },
      "cell_type": "markdown",
      "source": [
        "# Training a NN Classifier on top of VGG-19"
      ]
    },
    {
      "metadata": {
        "id": "JAcqt7VvcT5d",
        "colab_type": "text"
      },
      "cell_type": "markdown",
      "source": [
        "The general idea here is to use transfer learning approach. Inputs to the model are image representations in the form of vectors of length 4096, which are obtained after propagating images through a VGG-19 model pretrained on Imagenet and taking the outputs of its last layer before classification.\n",
        "\n",
        "Using these features we'll now try to classify the images into two classes: \"good\" cars and \"damaged\" cars with a Neural Network, which is built on top of cut VGG-19. First, we try a single layer with two outputs and softmax activation. Second, we try a NN with several hidden layers."
      ]
    },
    {
      "metadata": {
        "id": "EJPdHV0HTGo2",
        "colab_type": "code",
        "colab": {
          "autoexec": {
            "startup": false,
            "wait_interval": 0
          }
        }
      },
      "cell_type": "code",
      "source": [
        "def plot_training_history(training_history, epochs_num):\n",
        "  plt.subplot(211)\n",
        "  plt.plot(np.arange(1, epochs_num + 1), training_history.history[\"loss\"], label='train dataset')\n",
        "  plt.plot(np.arange(1, epochs_num + 1), training_history.history[\"val_loss\"], label='validation dataset')\n",
        "  plt.title('Loss plot')\n",
        "  plt.xlabel('epoch')\n",
        "  plt.ylabel('cross entropy')\n",
        "  plt.legend()\n",
        "  plt.show()\n",
        "  plt.subplot(212)\n",
        "  plt.plot(np.arange(1, epochs_num + 1), training_history.history[\"acc\"], label='train dataset')\n",
        "  plt.plot(np.arange(1, epochs_num + 1), training_history.history[\"val_acc\"], label='validation dataset')\n",
        "  plt.title('Accuracy plot')\n",
        "  plt.xlabel('epoch')\n",
        "  plt.ylabel('accuracy')\n",
        "  plt.legend()\n",
        "  plt.show()"
      ],
      "execution_count": 0,
      "outputs": []
    },
    {
      "metadata": {
        "id": "E5KsjbkKTomD",
        "colab_type": "code",
        "colab": {
          "autoexec": {
            "startup": false,
            "wait_interval": 0
          }
        }
      },
      "cell_type": "code",
      "source": [
        "def display_metrics(true_labels, predicted_labels, labels):\n",
        "    print(\"Accuracy:\", accuracy_score(true_labels, predicted_labels))\n",
        "    print(\"\\nConfusion matrix\")\n",
        "    display(DataFrame(confusion_matrix(true_labels, predicted_labels),\n",
        "                      index=[\"Actual \" + label for label in labels], columns=[\"Predicted \" + label for label in labels]))\n",
        "    print(\"\\nPrecision, recall, F-score, support\")\n",
        "    display(DataFrame(np.array(precision_recall_fscore_support(true_labels, predicted_labels)),\n",
        "            index=(\"precision\", \"recall\", \"F-score\", \"support\"), columns=labels))"
      ],
      "execution_count": 0,
      "outputs": []
    },
    {
      "metadata": {
        "id": "UwaaOmMvci0R",
        "colab_type": "code",
        "colab": {
          "autoexec": {
            "startup": false,
            "wait_interval": 0
          }
        }
      },
      "cell_type": "code",
      "source": [
        "train_cars, train_labels = pickle.loads(uploaded['train_vgg_19.p'])\n",
        "input_shape = train_cars[0].shape\n",
        "valid_cars, valid_labels = pickle.loads(uploaded['valid_vgg_19.p'])"
      ],
      "execution_count": 0,
      "outputs": []
    },
    {
      "metadata": {
        "id": "9QcU-u2Tqtxy",
        "colab_type": "code",
        "colab": {
          "autoexec": {
            "startup": false,
            "wait_interval": 0
          }
        }
      },
      "cell_type": "code",
      "source": [
        "train_labels_probabilities = utils.to_categorical(train_labels)\n",
        "valid_labels_probabilities = utils.to_categorical(valid_labels)"
      ],
      "execution_count": 0,
      "outputs": []
    },
    {
      "metadata": {
        "id": "rHKQHs6Ocmyx",
        "colab_type": "text"
      },
      "cell_type": "markdown",
      "source": [
        "## Single layer"
      ]
    },
    {
      "metadata": {
        "id": "6eJp-sVtczFs",
        "colab_type": "text"
      },
      "cell_type": "markdown",
      "source": [
        "First let's try to train a softmax linear classifier."
      ]
    },
    {
      "metadata": {
        "id": "_TqcdXZgo3-J",
        "colab_type": "code",
        "colab": {
          "autoexec": {
            "startup": false,
            "wait_interval": 0
          }
        }
      },
      "cell_type": "code",
      "source": [
        "x = Input(shape=(input_shape))\n",
        "y = Dense(2, activation='softmax', kernel_regularizer=regularizers.l2(0.01))(x)\n",
        "single_layer_model = Model(x, y)\n",
        "single_layer_model.compile(loss='categorical_crossentropy',\n",
        "              optimizer='adam',\n",
        "              metrics=['accuracy'])"
      ],
      "execution_count": 0,
      "outputs": []
    },
    {
      "metadata": {
        "id": "Nwc5u_Gy468H",
        "colab_type": "code",
        "colab": {
          "autoexec": {
            "startup": false,
            "wait_interval": 0
          },
          "base_uri": "https://localhost:8080/",
          "height": 202
        },
        "outputId": "574d4f58-9411-43a0-c8ad-4019d35e62fb",
        "executionInfo": {
          "status": "ok",
          "timestamp": 1531337129149,
          "user_tz": -180,
          "elapsed": 534,
          "user": {
            "displayName": "Александр Гурьянов",
            "photoUrl": "https://lh3.googleusercontent.com/a/default-user=s128",
            "userId": "112394763101688206932"
          }
        }
      },
      "cell_type": "code",
      "source": [
        "single_layer_model.summary()"
      ],
      "execution_count": 8,
      "outputs": [
        {
          "output_type": "stream",
          "text": [
            "_________________________________________________________________\n",
            "Layer (type)                 Output Shape              Param #   \n",
            "=================================================================\n",
            "input_1 (InputLayer)         (None, 4096)              0         \n",
            "_________________________________________________________________\n",
            "dense_1 (Dense)              (None, 2)                 8194      \n",
            "=================================================================\n",
            "Total params: 8,194\n",
            "Trainable params: 8,194\n",
            "Non-trainable params: 0\n",
            "_________________________________________________________________\n"
          ],
          "name": "stdout"
        }
      ]
    },
    {
      "metadata": {
        "id": "FTj2Fw4vGn1J",
        "colab_type": "code",
        "colab": {
          "autoexec": {
            "startup": false,
            "wait_interval": 0
          },
          "base_uri": "https://localhost:8080/",
          "height": 1230
        },
        "outputId": "931d0644-1904-4433-e500-2bee6cb246cd",
        "executionInfo": {
          "status": "ok",
          "timestamp": 1531337139116,
          "user_tz": -180,
          "elapsed": 8313,
          "user": {
            "displayName": "Александр Гурьянов",
            "photoUrl": "https://lh3.googleusercontent.com/a/default-user=s128",
            "userId": "112394763101688206932"
          }
        }
      },
      "cell_type": "code",
      "source": [
        "training_history = single_layer_model.fit(train_cars, train_labels_probabilities, batch_size=256, epochs=35, validation_data=(valid_cars, valid_labels_probabilities))"
      ],
      "execution_count": 9,
      "outputs": [
        {
          "output_type": "stream",
          "text": [
            "Train on 6514 samples, validate on 814 samples\n",
            "Epoch 1/35\n",
            "6514/6514 [==============================] - 1s 147us/step - loss: 0.4821 - acc: 0.7895 - val_loss: 0.3129 - val_acc: 0.9017\n",
            "Epoch 2/35\n",
            "6514/6514 [==============================] - 0s 29us/step - loss: 0.2660 - acc: 0.9197 - val_loss: 0.2349 - val_acc: 0.9238\n",
            "Epoch 3/35\n",
            "6514/6514 [==============================] - 0s 29us/step - loss: 0.2202 - acc: 0.9355 - val_loss: 0.2137 - val_acc: 0.9410\n",
            "Epoch 4/35\n",
            "6514/6514 [==============================] - 0s 30us/step - loss: 0.2051 - acc: 0.9377 - val_loss: 0.1958 - val_acc: 0.9361\n",
            "Epoch 5/35\n",
            "6514/6514 [==============================] - 0s 29us/step - loss: 0.1914 - acc: 0.9447 - val_loss: 0.1841 - val_acc: 0.9447\n",
            "Epoch 6/35\n",
            "6514/6514 [==============================] - 0s 28us/step - loss: 0.1815 - acc: 0.9498 - val_loss: 0.1784 - val_acc: 0.9459\n",
            "Epoch 7/35\n",
            "6514/6514 [==============================] - 0s 28us/step - loss: 0.1755 - acc: 0.9506 - val_loss: 0.1720 - val_acc: 0.9570\n",
            "Epoch 8/35\n",
            "6514/6514 [==============================] - 0s 29us/step - loss: 0.1720 - acc: 0.9529 - val_loss: 0.1668 - val_acc: 0.9570\n",
            "Epoch 9/35\n",
            "6514/6514 [==============================] - 0s 31us/step - loss: 0.1676 - acc: 0.9524 - val_loss: 0.1633 - val_acc: 0.9570\n",
            "Epoch 10/35\n",
            "6514/6514 [==============================] - 0s 31us/step - loss: 0.1633 - acc: 0.9553 - val_loss: 0.1600 - val_acc: 0.9582\n",
            "Epoch 11/35\n",
            "6514/6514 [==============================] - 0s 31us/step - loss: 0.1607 - acc: 0.9566 - val_loss: 0.1584 - val_acc: 0.9545\n",
            "Epoch 12/35\n",
            "6514/6514 [==============================] - 0s 32us/step - loss: 0.1573 - acc: 0.9553 - val_loss: 0.1596 - val_acc: 0.9496\n",
            "Epoch 13/35\n",
            "6514/6514 [==============================] - 0s 30us/step - loss: 0.1571 - acc: 0.9559 - val_loss: 0.1752 - val_acc: 0.9423\n",
            "Epoch 14/35\n",
            "6514/6514 [==============================] - 0s 31us/step - loss: 0.1560 - acc: 0.9555 - val_loss: 0.1542 - val_acc: 0.9631\n",
            "Epoch 15/35\n",
            "6400/6514 [============================>.] - ETA: 0s - loss: 0.1549 - acc: 0.9597"
          ],
          "name": "stdout"
        },
        {
          "output_type": "stream",
          "text": [
            "\b\b\b\b\b\b\b\b\b\b\b\b\b\b\b\b\b\b\b\b\b\b\b\b\b\b\b\b\b\b\b\b\b\b\b\b\b\b\b\b\b\b\b\b\b\b\b\b\b\b\b\b\b\b\b\b\b\b\b\b\b\b\b\b\b\b\b\b\b\b\b\b\b\b\b\b\b\b\b\b\b\r6514/6514 [==============================] - 0s 31us/step - loss: 0.1552 - acc: 0.9595 - val_loss: 0.1504 - val_acc: 0.9607\n",
            "Epoch 16/35\n",
            "6514/6514 [==============================] - 0s 28us/step - loss: 0.1533 - acc: 0.9567 - val_loss: 0.1505 - val_acc: 0.9558\n",
            "Epoch 17/35\n",
            "6514/6514 [==============================] - 0s 30us/step - loss: 0.1497 - acc: 0.9595 - val_loss: 0.1483 - val_acc: 0.9595\n",
            "Epoch 18/35\n",
            "6514/6514 [==============================] - 0s 30us/step - loss: 0.1522 - acc: 0.9555 - val_loss: 0.1473 - val_acc: 0.9619\n",
            "Epoch 19/35\n",
            "6514/6514 [==============================] - 0s 29us/step - loss: 0.1496 - acc: 0.9561 - val_loss: 0.1463 - val_acc: 0.9631\n",
            "Epoch 20/35\n",
            "6514/6514 [==============================] - 0s 31us/step - loss: 0.1500 - acc: 0.9587 - val_loss: 0.1456 - val_acc: 0.9619\n",
            "Epoch 21/35\n",
            "6514/6514 [==============================] - 0s 31us/step - loss: 0.1464 - acc: 0.9592 - val_loss: 0.1472 - val_acc: 0.9521\n",
            "Epoch 22/35\n",
            "6514/6514 [==============================] - 0s 30us/step - loss: 0.1442 - acc: 0.9586 - val_loss: 0.1445 - val_acc: 0.9607\n",
            "Epoch 23/35\n",
            "6514/6514 [==============================] - 0s 29us/step - loss: 0.1424 - acc: 0.9630 - val_loss: 0.1444 - val_acc: 0.9582\n",
            "Epoch 24/35\n",
            "6514/6514 [==============================] - 0s 31us/step - loss: 0.1419 - acc: 0.9616 - val_loss: 0.1442 - val_acc: 0.9582\n",
            "Epoch 25/35\n",
            "6514/6514 [==============================] - 0s 30us/step - loss: 0.1403 - acc: 0.9632 - val_loss: 0.1433 - val_acc: 0.9644\n",
            "Epoch 26/35\n",
            "6514/6514 [==============================] - 0s 30us/step - loss: 0.1445 - acc: 0.9587 - val_loss: 0.1481 - val_acc: 0.9607\n",
            "Epoch 27/35\n",
            "6514/6514 [==============================] - 0s 32us/step - loss: 0.1425 - acc: 0.9610 - val_loss: 0.1409 - val_acc: 0.9631\n",
            "Epoch 28/35\n",
            "6514/6514 [==============================] - 0s 31us/step - loss: 0.1439 - acc: 0.9613 - val_loss: 0.1448 - val_acc: 0.9656\n",
            "Epoch 29/35\n",
            "4096/6514 [=================>............] - ETA: 0s - loss: 0.1450 - acc: 0.9602"
          ],
          "name": "stdout"
        },
        {
          "output_type": "stream",
          "text": [
            "6514/6514 [==============================] - 0s 31us/step - loss: 0.1456 - acc: 0.9592 - val_loss: 0.1403 - val_acc: 0.9644\n",
            "Epoch 30/35\n",
            "6514/6514 [==============================] - 0s 30us/step - loss: 0.1385 - acc: 0.9627 - val_loss: 0.1410 - val_acc: 0.9595\n",
            "Epoch 31/35\n",
            "6514/6514 [==============================] - 0s 30us/step - loss: 0.1376 - acc: 0.9619 - val_loss: 0.1420 - val_acc: 0.9582\n",
            "Epoch 32/35\n",
            "6514/6514 [==============================] - 0s 30us/step - loss: 0.1405 - acc: 0.9609 - val_loss: 0.1414 - val_acc: 0.9558\n",
            "Epoch 33/35\n",
            "6514/6514 [==============================] - 0s 29us/step - loss: 0.1378 - acc: 0.9596 - val_loss: 0.1444 - val_acc: 0.9521\n",
            "Epoch 34/35\n",
            "6514/6514 [==============================] - 0s 31us/step - loss: 0.1355 - acc: 0.9632 - val_loss: 0.1378 - val_acc: 0.9644\n",
            "Epoch 35/35\n",
            "6514/6514 [==============================] - 0s 30us/step - loss: 0.1383 - acc: 0.9621 - val_loss: 0.1382 - val_acc: 0.9656\n"
          ],
          "name": "stdout"
        }
      ]
    },
    {
      "metadata": {
        "id": "xW8jF2nDIfhS",
        "colab_type": "code",
        "colab": {
          "autoexec": {
            "startup": false,
            "wait_interval": 0
          },
          "base_uri": "https://localhost:8080/",
          "height": 335
        },
        "outputId": "fa93cde6-8a94-4188-9756-49e308d3a216",
        "executionInfo": {
          "status": "ok",
          "timestamp": 1531337167243,
          "user_tz": -180,
          "elapsed": 1018,
          "user": {
            "displayName": "Александр Гурьянов",
            "photoUrl": "https://lh3.googleusercontent.com/a/default-user=s128",
            "userId": "112394763101688206932"
          }
        }
      },
      "cell_type": "code",
      "source": [
        "plot_training_history(training_history, 35)"
      ],
      "execution_count": 10,
      "outputs": [
        {
          "output_type": "display_data",
          "data": {
            "image/png": "[encoded data removed]",
            "text/plain": [
              "<matplotlib.figure.Figure at 0x7fa0c089e898>"
            ]
          },
          "metadata": {
            "tags": []
          }
        },
        {
          "output_type": "display_data",
          "data": {
            "image/png": "[encoded data removed]",
            "text/plain": [
              "<matplotlib.figure.Figure at 0x7fa0b46100f0>"
            ]
          },
          "metadata": {
            "tags": []
          }
        }
      ]
    },
    {
      "metadata": {
        "id": "3JgILCOgiZjj",
        "colab_type": "text"
      },
      "cell_type": "markdown",
      "source": [
        "As can be seen from the plot, loss on the train set is steadily decresing, but loss on the validation set is slightly flunctuating around it."
      ]
    },
    {
      "metadata": {
        "id": "ppkV5wGJi-b0",
        "colab_type": "text"
      },
      "cell_type": "markdown",
      "source": [
        "Here is an example of predicted probabilities."
      ]
    },
    {
      "metadata": {
        "id": "BxYfpxK9U_ix",
        "colab_type": "code",
        "colab": {
          "autoexec": {
            "startup": false,
            "wait_interval": 0
          },
          "base_uri": "https://localhost:8080/",
          "height": 34
        },
        "outputId": "5d5cc252-7fd3-47a5-e3c0-11a92a009e90",
        "executionInfo": {
          "status": "ok",
          "timestamp": 1531337204020,
          "user_tz": -180,
          "elapsed": 811,
          "user": {
            "displayName": "Александр Гурьянов",
            "photoUrl": "https://lh3.googleusercontent.com/a/default-user=s128",
            "userId": "112394763101688206932"
          }
        }
      },
      "cell_type": "code",
      "source": [
        "print(single_layer_model.predict(np.expand_dims(train_cars[0],axis=0)))"
      ],
      "execution_count": 11,
      "outputs": [
        {
          "output_type": "stream",
          "text": [
            "[[0.05517596 0.94482404]]\n"
          ],
          "name": "stdout"
        }
      ]
    },
    {
      "metadata": {
        "id": "5dR79_5BjEOp",
        "colab_type": "text"
      },
      "cell_type": "markdown",
      "source": [
        "Let's look at the metrics on the training dataset."
      ]
    },
    {
      "metadata": {
        "id": "Ko-4tyQGOsLv",
        "colab_type": "code",
        "colab": {
          "autoexec": {
            "startup": false,
            "wait_interval": 0
          },
          "base_uri": "https://localhost:8080/",
          "height": 339
        },
        "outputId": "355fd243-cb84-431b-a4b5-9add06602678",
        "executionInfo": {
          "status": "ok",
          "timestamp": 1531337208605,
          "user_tz": -180,
          "elapsed": 741,
          "user": {
            "displayName": "Александр Гурьянов",
            "photoUrl": "https://lh3.googleusercontent.com/a/default-user=s128",
            "userId": "112394763101688206932"
          }
        }
      },
      "cell_type": "code",
      "source": [
        "predicted_labels = single_layer_model.predict(train_cars).argmax(axis=-1)\n",
        "display_metrics(train_labels, predicted_labels, (\"Good Cars\", \"Damaged Cars\"))"
      ],
      "execution_count": 12,
      "outputs": [
        {
          "output_type": "stream",
          "text": [
            "Accuracy: 0.9625422167638932\n",
            "\n",
            "Confusion matrix\n"
          ],
          "name": "stdout"
        },
        {
          "output_type": "display_data",
          "data": {
            "text/html": [
              "<div>\n",
              "<style scoped>\n",
              "    .dataframe tbody tr th:only-of-type {\n",
              "        vertical-align: middle;\n",
              "    }\n",
              "\n",
              "    .dataframe tbody tr th {\n",
              "        vertical-align: top;\n",
              "    }\n",
              "\n",
              "    .dataframe thead th {\n",
              "        text-align: right;\n",
              "    }\n",
              "</style>\n",
              "<table border=\"1\" class=\"dataframe\">\n",
              "  <thead>\n",
              "    <tr style=\"text-align: right;\">\n",
              "      <th></th>\n",
              "      <th>Predicted Good Cars</th>\n",
              "      <th>Predicted Damaged Cars</th>\n",
              "    </tr>\n",
              "  </thead>\n",
              "  <tbody>\n",
              "    <tr>\n",
              "      <th>Actual Good Cars</th>\n",
              "      <td>3027</td>\n",
              "      <td>171</td>\n",
              "    </tr>\n",
              "    <tr>\n",
              "      <th>Actual Damaged Cars</th>\n",
              "      <td>73</td>\n",
              "      <td>3243</td>\n",
              "    </tr>\n",
              "  </tbody>\n",
              "</table>\n",
              "</div>"
            ],
            "text/plain": [
              "                     Predicted Good Cars  Predicted Damaged Cars\n",
              "Actual Good Cars                    3027                     171\n",
              "Actual Damaged Cars                   73                    3243"
            ]
          },
          "metadata": {
            "tags": []
          }
        },
        {
          "output_type": "stream",
          "text": [
            "\n",
            "Precision, recall, F-score, support\n"
          ],
          "name": "stdout"
        },
        {
          "output_type": "display_data",
          "data": {
            "text/html": [
              "<div>\n",
              "<style scoped>\n",
              "    .dataframe tbody tr th:only-of-type {\n",
              "        vertical-align: middle;\n",
              "    }\n",
              "\n",
              "    .dataframe tbody tr th {\n",
              "        vertical-align: top;\n",
              "    }\n",
              "\n",
              "    .dataframe thead th {\n",
              "        text-align: right;\n",
              "    }\n",
              "</style>\n",
              "<table border=\"1\" class=\"dataframe\">\n",
              "  <thead>\n",
              "    <tr style=\"text-align: right;\">\n",
              "      <th></th>\n",
              "      <th>Good Cars</th>\n",
              "      <th>Damaged Cars</th>\n",
              "    </tr>\n",
              "  </thead>\n",
              "  <tbody>\n",
              "    <tr>\n",
              "      <th>precision</th>\n",
              "      <td>0.976452</td>\n",
              "      <td>0.949912</td>\n",
              "    </tr>\n",
              "    <tr>\n",
              "      <th>recall</th>\n",
              "      <td>0.946529</td>\n",
              "      <td>0.977986</td>\n",
              "    </tr>\n",
              "    <tr>\n",
              "      <th>F-score</th>\n",
              "      <td>0.961258</td>\n",
              "      <td>0.963744</td>\n",
              "    </tr>\n",
              "    <tr>\n",
              "      <th>support</th>\n",
              "      <td>3198.000000</td>\n",
              "      <td>3316.000000</td>\n",
              "    </tr>\n",
              "  </tbody>\n",
              "</table>\n",
              "</div>"
            ],
            "text/plain": [
              "             Good Cars  Damaged Cars\n",
              "precision     0.976452      0.949912\n",
              "recall        0.946529      0.977986\n",
              "F-score       0.961258      0.963744\n",
              "support    3198.000000   3316.000000"
            ]
          },
          "metadata": {
            "tags": []
          }
        }
      ]
    },
    {
      "metadata": {
        "id": "gZSvfBhrjXW8",
        "colab_type": "text"
      },
      "cell_type": "markdown",
      "source": [
        "Now for the validation dataset."
      ]
    },
    {
      "metadata": {
        "id": "9-pmlDOGQfXw",
        "colab_type": "code",
        "colab": {
          "autoexec": {
            "startup": false,
            "wait_interval": 0
          },
          "base_uri": "https://localhost:8080/",
          "height": 339
        },
        "outputId": "ec04c718-5eb3-4a22-d996-74f639b893a1",
        "executionInfo": {
          "status": "ok",
          "timestamp": 1531337214979,
          "user_tz": -180,
          "elapsed": 912,
          "user": {
            "displayName": "Александр Гурьянов",
            "photoUrl": "https://lh3.googleusercontent.com/a/default-user=s128",
            "userId": "112394763101688206932"
          }
        }
      },
      "cell_type": "code",
      "source": [
        "predicted_labels_valid = single_layer_model.predict(valid_cars).argmax(axis=-1)\n",
        "display_metrics(valid_labels, predicted_labels_valid, (\"Good Cars\", \"Damaged Cars\"))"
      ],
      "execution_count": 13,
      "outputs": [
        {
          "output_type": "stream",
          "text": [
            "Accuracy: 0.9656019656019657\n",
            "\n",
            "Confusion matrix\n"
          ],
          "name": "stdout"
        },
        {
          "output_type": "display_data",
          "data": {
            "text/html": [
              "<div>\n",
              "<style scoped>\n",
              "    .dataframe tbody tr th:only-of-type {\n",
              "        vertical-align: middle;\n",
              "    }\n",
              "\n",
              "    .dataframe tbody tr th {\n",
              "        vertical-align: top;\n",
              "    }\n",
              "\n",
              "    .dataframe thead th {\n",
              "        text-align: right;\n",
              "    }\n",
              "</style>\n",
              "<table border=\"1\" class=\"dataframe\">\n",
              "  <thead>\n",
              "    <tr style=\"text-align: right;\">\n",
              "      <th></th>\n",
              "      <th>Predicted Good Cars</th>\n",
              "      <th>Predicted Damaged Cars</th>\n",
              "    </tr>\n",
              "  </thead>\n",
              "  <tbody>\n",
              "    <tr>\n",
              "      <th>Actual Good Cars</th>\n",
              "      <td>373</td>\n",
              "      <td>20</td>\n",
              "    </tr>\n",
              "    <tr>\n",
              "      <th>Actual Damaged Cars</th>\n",
              "      <td>8</td>\n",
              "      <td>413</td>\n",
              "    </tr>\n",
              "  </tbody>\n",
              "</table>\n",
              "</div>"
            ],
            "text/plain": [
              "                     Predicted Good Cars  Predicted Damaged Cars\n",
              "Actual Good Cars                     373                      20\n",
              "Actual Damaged Cars                    8                     413"
            ]
          },
          "metadata": {
            "tags": []
          }
        },
        {
          "output_type": "stream",
          "text": [
            "\n",
            "Precision, recall, F-score, support\n"
          ],
          "name": "stdout"
        },
        {
          "output_type": "display_data",
          "data": {
            "text/html": [
              "<div>\n",
              "<style scoped>\n",
              "    .dataframe tbody tr th:only-of-type {\n",
              "        vertical-align: middle;\n",
              "    }\n",
              "\n",
              "    .dataframe tbody tr th {\n",
              "        vertical-align: top;\n",
              "    }\n",
              "\n",
              "    .dataframe thead th {\n",
              "        text-align: right;\n",
              "    }\n",
              "</style>\n",
              "<table border=\"1\" class=\"dataframe\">\n",
              "  <thead>\n",
              "    <tr style=\"text-align: right;\">\n",
              "      <th></th>\n",
              "      <th>Good Cars</th>\n",
              "      <th>Damaged Cars</th>\n",
              "    </tr>\n",
              "  </thead>\n",
              "  <tbody>\n",
              "    <tr>\n",
              "      <th>precision</th>\n",
              "      <td>0.979003</td>\n",
              "      <td>0.953811</td>\n",
              "    </tr>\n",
              "    <tr>\n",
              "      <th>recall</th>\n",
              "      <td>0.949109</td>\n",
              "      <td>0.980998</td>\n",
              "    </tr>\n",
              "    <tr>\n",
              "      <th>F-score</th>\n",
              "      <td>0.963824</td>\n",
              "      <td>0.967213</td>\n",
              "    </tr>\n",
              "    <tr>\n",
              "      <th>support</th>\n",
              "      <td>393.000000</td>\n",
              "      <td>421.000000</td>\n",
              "    </tr>\n",
              "  </tbody>\n",
              "</table>\n",
              "</div>"
            ],
            "text/plain": [
              "            Good Cars  Damaged Cars\n",
              "precision    0.979003      0.953811\n",
              "recall       0.949109      0.980998\n",
              "F-score      0.963824      0.967213\n",
              "support    393.000000    421.000000"
            ]
          },
          "metadata": {
            "tags": []
          }
        }
      ]
    },
    {
      "metadata": {
        "id": "m_o5anHLjgZU",
        "colab_type": "text"
      },
      "cell_type": "markdown",
      "source": [
        "The results are consistent."
      ]
    },
    {
      "metadata": {
        "id": "luSlZMUdjxTf",
        "colab_type": "text"
      },
      "cell_type": "markdown",
      "source": [
        "## Multiple layers"
      ]
    },
    {
      "metadata": {
        "id": "CA7ar9eV4Ttp",
        "colab_type": "text"
      },
      "cell_type": "markdown",
      "source": [
        "Let's add to the model one more intermediate dense layer followed by a dropout layer for regularisation."
      ]
    },
    {
      "metadata": {
        "id": "RugxHRnmZI6U",
        "colab_type": "code",
        "colab": {
          "autoexec": {
            "startup": false,
            "wait_interval": 0
          }
        }
      },
      "cell_type": "code",
      "source": [
        "x = Input(shape=(input_shape))\n",
        "z = Dense(512, activation='relu')(x)\n",
        "z = Dropout(0.5)(z)\n",
        "y = Dense(2, activation='softmax')(z)\n",
        "multiple_layer_model = Model(x, y)\n",
        "multiple_layer_model.compile(loss='categorical_crossentropy',\n",
        "              optimizer='adam',\n",
        "              metrics=['accuracy'])"
      ],
      "execution_count": 0,
      "outputs": []
    },
    {
      "metadata": {
        "id": "INckwUqBkhKH",
        "colab_type": "code",
        "colab": {
          "autoexec": {
            "startup": false,
            "wait_interval": 0
          },
          "base_uri": "https://localhost:8080/",
          "height": 269
        },
        "outputId": "d40196fe-3b42-486e-d007-72e196f0afac",
        "executionInfo": {
          "status": "ok",
          "timestamp": 1531337237961,
          "user_tz": -180,
          "elapsed": 530,
          "user": {
            "displayName": "Александр Гурьянов",
            "photoUrl": "https://lh3.googleusercontent.com/a/default-user=s128",
            "userId": "112394763101688206932"
          }
        }
      },
      "cell_type": "code",
      "source": [
        "multiple_layer_model.summary()"
      ],
      "execution_count": 15,
      "outputs": [
        {
          "output_type": "stream",
          "text": [
            "_________________________________________________________________\n",
            "Layer (type)                 Output Shape              Param #   \n",
            "=================================================================\n",
            "input_2 (InputLayer)         (None, 4096)              0         \n",
            "_________________________________________________________________\n",
            "dense_2 (Dense)              (None, 512)               2097664   \n",
            "_________________________________________________________________\n",
            "dropout_1 (Dropout)          (None, 512)               0         \n",
            "_________________________________________________________________\n",
            "dense_3 (Dense)              (None, 2)                 1026      \n",
            "=================================================================\n",
            "Total params: 2,098,690\n",
            "Trainable params: 2,098,690\n",
            "Non-trainable params: 0\n",
            "_________________________________________________________________\n"
          ],
          "name": "stdout"
        }
      ]
    },
    {
      "metadata": {
        "id": "sfCU7PKhkjyr",
        "colab_type": "code",
        "colab": {
          "autoexec": {
            "startup": false,
            "wait_interval": 0
          },
          "base_uri": "https://localhost:8080/",
          "height": 894
        },
        "outputId": "29d59a1e-664d-42f9-ecd9-09bf5cca5d93",
        "executionInfo": {
          "status": "ok",
          "timestamp": 1531337249217,
          "user_tz": -180,
          "elapsed": 8583,
          "user": {
            "displayName": "Александр Гурьянов",
            "photoUrl": "https://lh3.googleusercontent.com/a/default-user=s128",
            "userId": "112394763101688206932"
          }
        }
      },
      "cell_type": "code",
      "source": [
        "training_history = multiple_layer_model.fit(train_cars, train_labels_probabilities, batch_size=256, epochs=25, validation_data=(valid_cars, valid_labels_probabilities))"
      ],
      "execution_count": 16,
      "outputs": [
        {
          "output_type": "stream",
          "text": [
            "Train on 6514 samples, validate on 814 samples\n",
            "Epoch 1/25\n",
            "6514/6514 [==============================] - 1s 94us/step - loss: 1.8257 - acc: 0.6251 - val_loss: 0.2566 - val_acc: 0.9177\n",
            "Epoch 2/25\n",
            "6514/6514 [==============================] - 0s 47us/step - loss: 0.2633 - acc: 0.8985 - val_loss: 0.1913 - val_acc: 0.9251\n",
            "Epoch 3/25\n",
            "6514/6514 [==============================] - 0s 47us/step - loss: 0.2054 - acc: 0.9226 - val_loss: 0.1714 - val_acc: 0.9312\n",
            "Epoch 4/25\n",
            "6514/6514 [==============================] - 0s 46us/step - loss: 0.1809 - acc: 0.9337 - val_loss: 0.1568 - val_acc: 0.9337\n",
            "Epoch 5/25\n",
            "6514/6514 [==============================] - 0s 45us/step - loss: 0.1661 - acc: 0.9404 - val_loss: 0.1501 - val_acc: 0.9410\n",
            "Epoch 6/25\n",
            "6514/6514 [==============================] - 0s 44us/step - loss: 0.1510 - acc: 0.9444 - val_loss: 0.1301 - val_acc: 0.9521\n",
            "Epoch 7/25\n",
            "6514/6514 [==============================] - 0s 46us/step - loss: 0.1478 - acc: 0.9450 - val_loss: 0.1231 - val_acc: 0.9533\n",
            "Epoch 8/25\n",
            "6514/6514 [==============================] - 0s 45us/step - loss: 0.1367 - acc: 0.9504 - val_loss: 0.1273 - val_acc: 0.9484\n",
            "Epoch 9/25\n",
            "6514/6514 [==============================] - 0s 47us/step - loss: 0.1345 - acc: 0.9515 - val_loss: 0.1122 - val_acc: 0.9582\n",
            "Epoch 10/25\n",
            "6514/6514 [==============================] - 0s 46us/step - loss: 0.1286 - acc: 0.9523 - val_loss: 0.1093 - val_acc: 0.9607\n",
            "Epoch 11/25\n",
            "6514/6514 [==============================] - 0s 48us/step - loss: 0.1215 - acc: 0.9586 - val_loss: 0.1089 - val_acc: 0.9558\n",
            "Epoch 12/25\n",
            "6514/6514 [==============================] - 0s 46us/step - loss: 0.1219 - acc: 0.9575 - val_loss: 0.1051 - val_acc: 0.9607\n",
            "Epoch 13/25\n",
            "6514/6514 [==============================] - 0s 46us/step - loss: 0.1164 - acc: 0.9566 - val_loss: 0.1074 - val_acc: 0.9619\n",
            "Epoch 14/25\n",
            "6514/6514 [==============================] - 0s 46us/step - loss: 0.1145 - acc: 0.9575 - val_loss: 0.1020 - val_acc: 0.9644\n",
            "Epoch 15/25\n",
            "5376/6514 [=======================>......] - ETA: 0s - loss: 0.1162 - acc: 0.9574"
          ],
          "name": "stdout"
        },
        {
          "output_type": "stream",
          "text": [
            "6514/6514 [==============================] - 0s 47us/step - loss: 0.1139 - acc: 0.9584 - val_loss: 0.0990 - val_acc: 0.9656\n",
            "Epoch 16/25\n",
            "6514/6514 [==============================] - 0s 46us/step - loss: 0.1111 - acc: 0.9601 - val_loss: 0.1067 - val_acc: 0.9521\n",
            "Epoch 17/25\n",
            "6514/6514 [==============================] - 0s 46us/step - loss: 0.1057 - acc: 0.9602 - val_loss: 0.1030 - val_acc: 0.9545\n",
            "Epoch 18/25\n",
            "6514/6514 [==============================] - 0s 46us/step - loss: 0.1153 - acc: 0.9586 - val_loss: 0.1215 - val_acc: 0.9570\n",
            "Epoch 19/25\n",
            "6514/6514 [==============================] - 0s 46us/step - loss: 0.1188 - acc: 0.9536 - val_loss: 0.1075 - val_acc: 0.9545\n",
            "Epoch 20/25\n",
            "6514/6514 [==============================] - 0s 46us/step - loss: 0.1219 - acc: 0.9566 - val_loss: 0.1389 - val_acc: 0.9398\n",
            "Epoch 21/25\n",
            "6514/6514 [==============================] - 0s 46us/step - loss: 0.1145 - acc: 0.9581 - val_loss: 0.1201 - val_acc: 0.9472\n",
            "Epoch 22/25\n",
            "6514/6514 [==============================] - 0s 46us/step - loss: 0.1186 - acc: 0.9578 - val_loss: 0.1167 - val_acc: 0.9484\n",
            "Epoch 23/25\n",
            "6514/6514 [==============================] - 0s 47us/step - loss: 0.1149 - acc: 0.9582 - val_loss: 0.1449 - val_acc: 0.9373\n",
            "Epoch 24/25\n",
            "6514/6514 [==============================] - 0s 46us/step - loss: 0.1080 - acc: 0.9599 - val_loss: 0.1026 - val_acc: 0.9582\n",
            "Epoch 25/25\n",
            "6514/6514 [==============================] - 0s 45us/step - loss: 0.1056 - acc: 0.9627 - val_loss: 0.1015 - val_acc: 0.9570\n"
          ],
          "name": "stdout"
        }
      ]
    },
    {
      "metadata": {
        "id": "eKIVedUikuUP",
        "colab_type": "code",
        "colab": {
          "autoexec": {
            "startup": false,
            "wait_interval": 0
          },
          "base_uri": "https://localhost:8080/",
          "height": 335
        },
        "outputId": "ec128067-2932-4059-e5a7-b4a37acea56a",
        "executionInfo": {
          "status": "ok",
          "timestamp": 1531337256160,
          "user_tz": -180,
          "elapsed": 823,
          "user": {
            "displayName": "Александр Гурьянов",
            "photoUrl": "https://lh3.googleusercontent.com/a/default-user=s128",
            "userId": "112394763101688206932"
          }
        }
      },
      "cell_type": "code",
      "source": [
        "plot_training_history(training_history, 25)"
      ],
      "execution_count": 17,
      "outputs": [
        {
          "output_type": "display_data",
          "data": {
            "image/png": "[encoded data removed]",
            "text/plain": [
              "<matplotlib.figure.Figure at 0x7fa0b218cd30>"
            ]
          },
          "metadata": {
            "tags": []
          }
        },
        {
          "output_type": "display_data",
          "data": {
            "image/png": "[encoded data removed]",
            "text/plain": [
              "<matplotlib.figure.Figure at 0x7fa0b1de05f8>"
            ]
          },
          "metadata": {
            "tags": []
          }
        }
      ]
    },
    {
      "metadata": {
        "id": "QXWC0_-Isq52",
        "colab_type": "text"
      },
      "cell_type": "markdown",
      "source": [
        "Let's look at the metrics on the training dataset."
      ]
    },
    {
      "metadata": {
        "id": "loVFQ1u6sPAM",
        "colab_type": "code",
        "colab": {
          "autoexec": {
            "startup": false,
            "wait_interval": 0
          },
          "base_uri": "https://localhost:8080/",
          "height": 339
        },
        "outputId": "bb616629-1ce9-4164-88d4-131a7be87f69",
        "executionInfo": {
          "status": "ok",
          "timestamp": 1531337271544,
          "user_tz": -180,
          "elapsed": 998,
          "user": {
            "displayName": "Александр Гурьянов",
            "photoUrl": "https://lh3.googleusercontent.com/a/default-user=s128",
            "userId": "112394763101688206932"
          }
        }
      },
      "cell_type": "code",
      "source": [
        "predicted_labels = multiple_layer_model.predict(train_cars).argmax(axis=-1)\n",
        "display_metrics(train_labels, predicted_labels, (\"Good Cars\", \"Damaged Cars\"))"
      ],
      "execution_count": 18,
      "outputs": [
        {
          "output_type": "stream",
          "text": [
            "Accuracy: 0.9679152594412036\n",
            "\n",
            "Confusion matrix\n"
          ],
          "name": "stdout"
        },
        {
          "output_type": "display_data",
          "data": {
            "text/html": [
              "<div>\n",
              "<style scoped>\n",
              "    .dataframe tbody tr th:only-of-type {\n",
              "        vertical-align: middle;\n",
              "    }\n",
              "\n",
              "    .dataframe tbody tr th {\n",
              "        vertical-align: top;\n",
              "    }\n",
              "\n",
              "    .dataframe thead th {\n",
              "        text-align: right;\n",
              "    }\n",
              "</style>\n",
              "<table border=\"1\" class=\"dataframe\">\n",
              "  <thead>\n",
              "    <tr style=\"text-align: right;\">\n",
              "      <th></th>\n",
              "      <th>Predicted Good Cars</th>\n",
              "      <th>Predicted Damaged Cars</th>\n",
              "    </tr>\n",
              "  </thead>\n",
              "  <tbody>\n",
              "    <tr>\n",
              "      <th>Actual Good Cars</th>\n",
              "      <td>3112</td>\n",
              "      <td>86</td>\n",
              "    </tr>\n",
              "    <tr>\n",
              "      <th>Actual Damaged Cars</th>\n",
              "      <td>123</td>\n",
              "      <td>3193</td>\n",
              "    </tr>\n",
              "  </tbody>\n",
              "</table>\n",
              "</div>"
            ],
            "text/plain": [
              "                     Predicted Good Cars  Predicted Damaged Cars\n",
              "Actual Good Cars                    3112                      86\n",
              "Actual Damaged Cars                  123                    3193"
            ]
          },
          "metadata": {
            "tags": []
          }
        },
        {
          "output_type": "stream",
          "text": [
            "\n",
            "Precision, recall, F-score, support\n"
          ],
          "name": "stdout"
        },
        {
          "output_type": "display_data",
          "data": {
            "text/html": [
              "<div>\n",
              "<style scoped>\n",
              "    .dataframe tbody tr th:only-of-type {\n",
              "        vertical-align: middle;\n",
              "    }\n",
              "\n",
              "    .dataframe tbody tr th {\n",
              "        vertical-align: top;\n",
              "    }\n",
              "\n",
              "    .dataframe thead th {\n",
              "        text-align: right;\n",
              "    }\n",
              "</style>\n",
              "<table border=\"1\" class=\"dataframe\">\n",
              "  <thead>\n",
              "    <tr style=\"text-align: right;\">\n",
              "      <th></th>\n",
              "      <th>Good Cars</th>\n",
              "      <th>Damaged Cars</th>\n",
              "    </tr>\n",
              "  </thead>\n",
              "  <tbody>\n",
              "    <tr>\n",
              "      <th>precision</th>\n",
              "      <td>0.961978</td>\n",
              "      <td>0.973772</td>\n",
              "    </tr>\n",
              "    <tr>\n",
              "      <th>recall</th>\n",
              "      <td>0.973108</td>\n",
              "      <td>0.962907</td>\n",
              "    </tr>\n",
              "    <tr>\n",
              "      <th>F-score</th>\n",
              "      <td>0.967511</td>\n",
              "      <td>0.968309</td>\n",
              "    </tr>\n",
              "    <tr>\n",
              "      <th>support</th>\n",
              "      <td>3198.000000</td>\n",
              "      <td>3316.000000</td>\n",
              "    </tr>\n",
              "  </tbody>\n",
              "</table>\n",
              "</div>"
            ],
            "text/plain": [
              "             Good Cars  Damaged Cars\n",
              "precision     0.961978      0.973772\n",
              "recall        0.973108      0.962907\n",
              "F-score       0.967511      0.968309\n",
              "support    3198.000000   3316.000000"
            ]
          },
          "metadata": {
            "tags": []
          }
        }
      ]
    },
    {
      "metadata": {
        "id": "kaoah-kgs_mh",
        "colab_type": "text"
      },
      "cell_type": "markdown",
      "source": [
        "Now for the validation dataset."
      ]
    },
    {
      "metadata": {
        "id": "KYNCxjSYsxk_",
        "colab_type": "code",
        "colab": {
          "autoexec": {
            "startup": false,
            "wait_interval": 0
          },
          "base_uri": "https://localhost:8080/",
          "height": 339
        },
        "outputId": "ee6e5624-d570-4040-e1c4-0c0f04a649f3",
        "executionInfo": {
          "status": "ok",
          "timestamp": 1531337275577,
          "user_tz": -180,
          "elapsed": 674,
          "user": {
            "displayName": "Александр Гурьянов",
            "photoUrl": "https://lh3.googleusercontent.com/a/default-user=s128",
            "userId": "112394763101688206932"
          }
        }
      },
      "cell_type": "code",
      "source": [
        "predicted_labels_valid = multiple_layer_model.predict(valid_cars).argmax(axis=-1)\n",
        "display_metrics(valid_labels, predicted_labels_valid, (\"Good Cars\", \"Damaged Cars\"))"
      ],
      "execution_count": 19,
      "outputs": [
        {
          "output_type": "stream",
          "text": [
            "Accuracy: 0.957002457002457\n",
            "\n",
            "Confusion matrix\n"
          ],
          "name": "stdout"
        },
        {
          "output_type": "display_data",
          "data": {
            "text/html": [
              "<div>\n",
              "<style scoped>\n",
              "    .dataframe tbody tr th:only-of-type {\n",
              "        vertical-align: middle;\n",
              "    }\n",
              "\n",
              "    .dataframe tbody tr th {\n",
              "        vertical-align: top;\n",
              "    }\n",
              "\n",
              "    .dataframe thead th {\n",
              "        text-align: right;\n",
              "    }\n",
              "</style>\n",
              "<table border=\"1\" class=\"dataframe\">\n",
              "  <thead>\n",
              "    <tr style=\"text-align: right;\">\n",
              "      <th></th>\n",
              "      <th>Predicted Good Cars</th>\n",
              "      <th>Predicted Damaged Cars</th>\n",
              "    </tr>\n",
              "  </thead>\n",
              "  <tbody>\n",
              "    <tr>\n",
              "      <th>Actual Good Cars</th>\n",
              "      <td>379</td>\n",
              "      <td>14</td>\n",
              "    </tr>\n",
              "    <tr>\n",
              "      <th>Actual Damaged Cars</th>\n",
              "      <td>21</td>\n",
              "      <td>400</td>\n",
              "    </tr>\n",
              "  </tbody>\n",
              "</table>\n",
              "</div>"
            ],
            "text/plain": [
              "                     Predicted Good Cars  Predicted Damaged Cars\n",
              "Actual Good Cars                     379                      14\n",
              "Actual Damaged Cars                   21                     400"
            ]
          },
          "metadata": {
            "tags": []
          }
        },
        {
          "output_type": "stream",
          "text": [
            "\n",
            "Precision, recall, F-score, support\n"
          ],
          "name": "stdout"
        },
        {
          "output_type": "display_data",
          "data": {
            "text/html": [
              "<div>\n",
              "<style scoped>\n",
              "    .dataframe tbody tr th:only-of-type {\n",
              "        vertical-align: middle;\n",
              "    }\n",
              "\n",
              "    .dataframe tbody tr th {\n",
              "        vertical-align: top;\n",
              "    }\n",
              "\n",
              "    .dataframe thead th {\n",
              "        text-align: right;\n",
              "    }\n",
              "</style>\n",
              "<table border=\"1\" class=\"dataframe\">\n",
              "  <thead>\n",
              "    <tr style=\"text-align: right;\">\n",
              "      <th></th>\n",
              "      <th>Good Cars</th>\n",
              "      <th>Damaged Cars</th>\n",
              "    </tr>\n",
              "  </thead>\n",
              "  <tbody>\n",
              "    <tr>\n",
              "      <th>precision</th>\n",
              "      <td>0.947500</td>\n",
              "      <td>0.966184</td>\n",
              "    </tr>\n",
              "    <tr>\n",
              "      <th>recall</th>\n",
              "      <td>0.964377</td>\n",
              "      <td>0.950119</td>\n",
              "    </tr>\n",
              "    <tr>\n",
              "      <th>F-score</th>\n",
              "      <td>0.955864</td>\n",
              "      <td>0.958084</td>\n",
              "    </tr>\n",
              "    <tr>\n",
              "      <th>support</th>\n",
              "      <td>393.000000</td>\n",
              "      <td>421.000000</td>\n",
              "    </tr>\n",
              "  </tbody>\n",
              "</table>\n",
              "</div>"
            ],
            "text/plain": [
              "            Good Cars  Damaged Cars\n",
              "precision    0.947500      0.966184\n",
              "recall       0.964377      0.950119\n",
              "F-score      0.955864      0.958084\n",
              "support    393.000000    421.000000"
            ]
          },
          "metadata": {
            "tags": []
          }
        }
      ]
    },
    {
      "metadata": {
        "id": "PZBDmYRW09ys",
        "colab_type": "text"
      },
      "cell_type": "markdown",
      "source": [
        "Two models yield more or less equal results, but the first one is simpler. So it makes sense to pick it.\n",
        "\n",
        "Let's save the weights for the single layer model."
      ]
    },
    {
      "metadata": {
        "id": "zv7sLs6MtHSx",
        "colab_type": "code",
        "colab": {
          "autoexec": {
            "startup": false,
            "wait_interval": 0
          }
        }
      },
      "cell_type": "code",
      "source": [
        "single_layer_model.save_weights('vgg19_single_layer_model_loss_0.1383.h5')\n",
        "\n",
        "files.download('vgg19_single_layer_model_loss_0.1383.h5')"
      ],
      "execution_count": 0,
      "outputs": []
    }
  ]
}